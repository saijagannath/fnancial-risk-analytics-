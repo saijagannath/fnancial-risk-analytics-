{
 "cells": [
  {
   "cell_type": "code",
   "execution_count": 1,
   "metadata": {},
   "outputs": [],
   "source": [
    "import pandas as pd\n",
    "import matplotlib.pyplot as plt\n",
    "import seaborn as sns\n",
    "import re\n",
    "from sklearn import preprocessing\n",
    "from sklearn.preprocessing import StandardScaler\n",
    "from sklearn.model_selection import train_test_split\n",
    "from sklearn.linear_model import LogisticRegression\n",
    "import numpy as np"
   ]
  },
  {
   "cell_type": "code",
   "execution_count": 2,
   "metadata": {},
   "outputs": [
    {
     "name": "stderr",
     "output_type": "stream",
     "text": [
      "C:\\Users\\vansh\\Anaconda4\\lib\\site-packages\\IPython\\core\\interactiveshell.py:3020: DtypeWarning: Columns (47) have mixed types. Specify dtype option on import or set low_memory=False.\n",
      "  interactivity=interactivity, compiler=compiler, result=result)\n"
     ]
    }
   ],
   "source": [
    "loan=pd.read_csv('C://Users//vansh//Desktop//python gl//CAPSTONE PROJECT 5//LoanStats3a.csv',skiprows=1)"
   ]
  },
  {
   "cell_type": "code",
   "execution_count": 3,
   "metadata": {},
   "outputs": [
    {
     "data": {
      "text/html": [
       "<div>\n",
       "<style scoped>\n",
       "    .dataframe tbody tr th:only-of-type {\n",
       "        vertical-align: middle;\n",
       "    }\n",
       "\n",
       "    .dataframe tbody tr th {\n",
       "        vertical-align: top;\n",
       "    }\n",
       "\n",
       "    .dataframe thead th {\n",
       "        text-align: right;\n",
       "    }\n",
       "</style>\n",
       "<table border=\"1\" class=\"dataframe\">\n",
       "  <thead>\n",
       "    <tr style=\"text-align: right;\">\n",
       "      <th></th>\n",
       "      <th>id</th>\n",
       "      <th>member_id</th>\n",
       "      <th>loan_amnt</th>\n",
       "      <th>funded_amnt</th>\n",
       "      <th>funded_amnt_inv</th>\n",
       "      <th>term</th>\n",
       "      <th>int_rate</th>\n",
       "      <th>installment</th>\n",
       "      <th>grade</th>\n",
       "      <th>sub_grade</th>\n",
       "      <th>...</th>\n",
       "      <th>orig_projected_additional_accrued_interest</th>\n",
       "      <th>hardship_payoff_balance_amount</th>\n",
       "      <th>hardship_last_payment_amount</th>\n",
       "      <th>debt_settlement_flag</th>\n",
       "      <th>debt_settlement_flag_date</th>\n",
       "      <th>settlement_status</th>\n",
       "      <th>settlement_date</th>\n",
       "      <th>settlement_amount</th>\n",
       "      <th>settlement_percentage</th>\n",
       "      <th>settlement_term</th>\n",
       "    </tr>\n",
       "  </thead>\n",
       "  <tbody>\n",
       "    <tr>\n",
       "      <th>0</th>\n",
       "      <td>NaN</td>\n",
       "      <td>NaN</td>\n",
       "      <td>5000</td>\n",
       "      <td>5000</td>\n",
       "      <td>4975.0</td>\n",
       "      <td>36 months</td>\n",
       "      <td>10.65%</td>\n",
       "      <td>162.87</td>\n",
       "      <td>B</td>\n",
       "      <td>B2</td>\n",
       "      <td>...</td>\n",
       "      <td>NaN</td>\n",
       "      <td>NaN</td>\n",
       "      <td>NaN</td>\n",
       "      <td>N</td>\n",
       "      <td>NaN</td>\n",
       "      <td>NaN</td>\n",
       "      <td>NaN</td>\n",
       "      <td>NaN</td>\n",
       "      <td>NaN</td>\n",
       "      <td>NaN</td>\n",
       "    </tr>\n",
       "    <tr>\n",
       "      <th>1</th>\n",
       "      <td>NaN</td>\n",
       "      <td>NaN</td>\n",
       "      <td>2500</td>\n",
       "      <td>2500</td>\n",
       "      <td>2500.0</td>\n",
       "      <td>60 months</td>\n",
       "      <td>15.27%</td>\n",
       "      <td>59.83</td>\n",
       "      <td>C</td>\n",
       "      <td>C4</td>\n",
       "      <td>...</td>\n",
       "      <td>NaN</td>\n",
       "      <td>NaN</td>\n",
       "      <td>NaN</td>\n",
       "      <td>N</td>\n",
       "      <td>NaN</td>\n",
       "      <td>NaN</td>\n",
       "      <td>NaN</td>\n",
       "      <td>NaN</td>\n",
       "      <td>NaN</td>\n",
       "      <td>NaN</td>\n",
       "    </tr>\n",
       "    <tr>\n",
       "      <th>2</th>\n",
       "      <td>NaN</td>\n",
       "      <td>NaN</td>\n",
       "      <td>2400</td>\n",
       "      <td>2400</td>\n",
       "      <td>2400.0</td>\n",
       "      <td>36 months</td>\n",
       "      <td>15.96%</td>\n",
       "      <td>84.33</td>\n",
       "      <td>C</td>\n",
       "      <td>C5</td>\n",
       "      <td>...</td>\n",
       "      <td>NaN</td>\n",
       "      <td>NaN</td>\n",
       "      <td>NaN</td>\n",
       "      <td>N</td>\n",
       "      <td>NaN</td>\n",
       "      <td>NaN</td>\n",
       "      <td>NaN</td>\n",
       "      <td>NaN</td>\n",
       "      <td>NaN</td>\n",
       "      <td>NaN</td>\n",
       "    </tr>\n",
       "    <tr>\n",
       "      <th>3</th>\n",
       "      <td>NaN</td>\n",
       "      <td>NaN</td>\n",
       "      <td>10000</td>\n",
       "      <td>10000</td>\n",
       "      <td>10000.0</td>\n",
       "      <td>36 months</td>\n",
       "      <td>13.49%</td>\n",
       "      <td>339.31</td>\n",
       "      <td>C</td>\n",
       "      <td>C1</td>\n",
       "      <td>...</td>\n",
       "      <td>NaN</td>\n",
       "      <td>NaN</td>\n",
       "      <td>NaN</td>\n",
       "      <td>N</td>\n",
       "      <td>NaN</td>\n",
       "      <td>NaN</td>\n",
       "      <td>NaN</td>\n",
       "      <td>NaN</td>\n",
       "      <td>NaN</td>\n",
       "      <td>NaN</td>\n",
       "    </tr>\n",
       "    <tr>\n",
       "      <th>4</th>\n",
       "      <td>NaN</td>\n",
       "      <td>NaN</td>\n",
       "      <td>3000</td>\n",
       "      <td>3000</td>\n",
       "      <td>3000.0</td>\n",
       "      <td>60 months</td>\n",
       "      <td>12.69%</td>\n",
       "      <td>67.79</td>\n",
       "      <td>B</td>\n",
       "      <td>B5</td>\n",
       "      <td>...</td>\n",
       "      <td>NaN</td>\n",
       "      <td>NaN</td>\n",
       "      <td>NaN</td>\n",
       "      <td>N</td>\n",
       "      <td>NaN</td>\n",
       "      <td>NaN</td>\n",
       "      <td>NaN</td>\n",
       "      <td>NaN</td>\n",
       "      <td>NaN</td>\n",
       "      <td>NaN</td>\n",
       "    </tr>\n",
       "  </tbody>\n",
       "</table>\n",
       "<p>5 rows × 144 columns</p>\n",
       "</div>"
      ],
      "text/plain": [
       "   id  member_id  loan_amnt  funded_amnt  funded_amnt_inv        term  \\\n",
       "0 NaN        NaN       5000         5000           4975.0   36 months   \n",
       "1 NaN        NaN       2500         2500           2500.0   60 months   \n",
       "2 NaN        NaN       2400         2400           2400.0   36 months   \n",
       "3 NaN        NaN      10000        10000          10000.0   36 months   \n",
       "4 NaN        NaN       3000         3000           3000.0   60 months   \n",
       "\n",
       "  int_rate  installment grade sub_grade       ...        \\\n",
       "0   10.65%       162.87     B        B2       ...         \n",
       "1   15.27%        59.83     C        C4       ...         \n",
       "2   15.96%        84.33     C        C5       ...         \n",
       "3   13.49%       339.31     C        C1       ...         \n",
       "4   12.69%        67.79     B        B5       ...         \n",
       "\n",
       "  orig_projected_additional_accrued_interest hardship_payoff_balance_amount  \\\n",
       "0                                        NaN                            NaN   \n",
       "1                                        NaN                            NaN   \n",
       "2                                        NaN                            NaN   \n",
       "3                                        NaN                            NaN   \n",
       "4                                        NaN                            NaN   \n",
       "\n",
       "  hardship_last_payment_amount  debt_settlement_flag  \\\n",
       "0                          NaN                     N   \n",
       "1                          NaN                     N   \n",
       "2                          NaN                     N   \n",
       "3                          NaN                     N   \n",
       "4                          NaN                     N   \n",
       "\n",
       "  debt_settlement_flag_date settlement_status settlement_date  \\\n",
       "0                       NaN               NaN             NaN   \n",
       "1                       NaN               NaN             NaN   \n",
       "2                       NaN               NaN             NaN   \n",
       "3                       NaN               NaN             NaN   \n",
       "4                       NaN               NaN             NaN   \n",
       "\n",
       "  settlement_amount  settlement_percentage settlement_term  \n",
       "0               NaN                    NaN             NaN  \n",
       "1               NaN                    NaN             NaN  \n",
       "2               NaN                    NaN             NaN  \n",
       "3               NaN                    NaN             NaN  \n",
       "4               NaN                    NaN             NaN  \n",
       "\n",
       "[5 rows x 144 columns]"
      ]
     },
     "execution_count": 3,
     "metadata": {},
     "output_type": "execute_result"
    }
   ],
   "source": [
    "loan.head()"
   ]
  },
  {
   "cell_type": "code",
   "execution_count": 4,
   "metadata": {},
   "outputs": [
    {
     "name": "stdout",
     "output_type": "stream",
     "text": [
      "<class 'pandas.core.frame.DataFrame'>\n",
      "RangeIndex: 42535 entries, 0 to 42534\n",
      "Columns: 144 entries, id to settlement_term\n",
      "dtypes: float64(110), int64(6), object(28)\n",
      "memory usage: 46.7+ MB\n"
     ]
    }
   ],
   "source": [
    "loan.info()"
   ]
  },
  {
   "cell_type": "code",
   "execution_count": 5,
   "metadata": {},
   "outputs": [
    {
     "data": {
      "text/plain": [
       "Index(['id', 'member_id', 'loan_amnt', 'funded_amnt', 'funded_amnt_inv',\n",
       "       'term', 'int_rate', 'installment', 'grade', 'sub_grade', 'emp_title',\n",
       "       'emp_length', 'home_ownership', 'annual_inc', 'verification_status'],\n",
       "      dtype='object')"
      ]
     },
     "execution_count": 5,
     "metadata": {},
     "output_type": "execute_result"
    }
   ],
   "source": [
    "loan.columns[0:15]"
   ]
  },
  {
   "cell_type": "code",
   "execution_count": 6,
   "metadata": {},
   "outputs": [
    {
     "data": {
      "text/plain": [
       "12760.5"
      ]
     },
     "execution_count": 6,
     "metadata": {},
     "output_type": "execute_result"
    }
   ],
   "source": [
    "0.30*42535"
   ]
  },
  {
   "cell_type": "code",
   "execution_count": 7,
   "metadata": {},
   "outputs": [],
   "source": [
    "loan.dropna(thresh=12760, axis=1,inplace=True)"
   ]
  },
  {
   "cell_type": "code",
   "execution_count": 8,
   "metadata": {},
   "outputs": [
    {
     "name": "stdout",
     "output_type": "stream",
     "text": [
      "<class 'pandas.core.frame.DataFrame'>\n",
      "RangeIndex: 42535 entries, 0 to 42534\n",
      "Data columns (total 54 columns):\n",
      "loan_amnt                     42535 non-null int64\n",
      "funded_amnt                   42535 non-null int64\n",
      "funded_amnt_inv               42535 non-null float64\n",
      "term                          42535 non-null object\n",
      "int_rate                      42535 non-null object\n",
      "installment                   42535 non-null float64\n",
      "grade                         42535 non-null object\n",
      "sub_grade                     42535 non-null object\n",
      "emp_title                     39909 non-null object\n",
      "emp_length                    41423 non-null object\n",
      "home_ownership                42535 non-null object\n",
      "annual_inc                    42531 non-null float64\n",
      "verification_status           42535 non-null object\n",
      "issue_d                       42535 non-null object\n",
      "loan_status                   42535 non-null object\n",
      "pymnt_plan                    42535 non-null object\n",
      "desc                          29242 non-null object\n",
      "purpose                       42535 non-null object\n",
      "title                         42522 non-null object\n",
      "zip_code                      42535 non-null object\n",
      "addr_state                    42535 non-null object\n",
      "dti                           42535 non-null float64\n",
      "delinq_2yrs                   42506 non-null float64\n",
      "earliest_cr_line              42506 non-null object\n",
      "inq_last_6mths                42506 non-null float64\n",
      "mths_since_last_delinq        15609 non-null float64\n",
      "open_acc                      42506 non-null float64\n",
      "pub_rec                       42506 non-null float64\n",
      "revol_bal                     42535 non-null int64\n",
      "revol_util                    42445 non-null object\n",
      "total_acc                     42506 non-null float64\n",
      "initial_list_status           42535 non-null object\n",
      "out_prncp                     42535 non-null int64\n",
      "out_prncp_inv                 42535 non-null int64\n",
      "total_pymnt                   42535 non-null float64\n",
      "total_pymnt_inv               42535 non-null float64\n",
      "total_rec_prncp               42535 non-null float64\n",
      "total_rec_int                 42535 non-null float64\n",
      "total_rec_late_fee            42535 non-null float64\n",
      "recoveries                    42535 non-null float64\n",
      "collection_recovery_fee       42535 non-null float64\n",
      "last_pymnt_d                  42452 non-null object\n",
      "last_pymnt_amnt               42535 non-null float64\n",
      "last_credit_pull_d            42531 non-null object\n",
      "collections_12_mths_ex_med    42390 non-null float64\n",
      "policy_code                   42535 non-null int64\n",
      "application_type              42535 non-null object\n",
      "acc_now_delinq                42506 non-null float64\n",
      "chargeoff_within_12_mths      42390 non-null float64\n",
      "delinq_amnt                   42506 non-null float64\n",
      "pub_rec_bankruptcies          41170 non-null float64\n",
      "tax_liens                     42430 non-null float64\n",
      "hardship_flag                 42535 non-null object\n",
      "debt_settlement_flag          42535 non-null object\n",
      "dtypes: float64(24), int64(6), object(24)\n",
      "memory usage: 17.5+ MB\n"
     ]
    }
   ],
   "source": [
    "loan.info()"
   ]
  },
  {
   "cell_type": "code",
   "execution_count": 9,
   "metadata": {},
   "outputs": [
    {
     "data": {
      "text/plain": [
       "Index(['loan_amnt', 'funded_amnt', 'funded_amnt_inv', 'term', 'int_rate',\n",
       "       'installment', 'grade', 'sub_grade', 'emp_title', 'emp_length',\n",
       "       'home_ownership', 'annual_inc', 'verification_status', 'issue_d',\n",
       "       'loan_status', 'pymnt_plan', 'desc', 'purpose', 'title', 'zip_code',\n",
       "       'addr_state', 'dti', 'delinq_2yrs', 'earliest_cr_line',\n",
       "       'inq_last_6mths', 'mths_since_last_delinq', 'open_acc', 'pub_rec',\n",
       "       'revol_bal', 'revol_util', 'total_acc', 'initial_list_status',\n",
       "       'out_prncp', 'out_prncp_inv', 'total_pymnt', 'total_pymnt_inv',\n",
       "       'total_rec_prncp', 'total_rec_int', 'total_rec_late_fee', 'recoveries',\n",
       "       'collection_recovery_fee', 'last_pymnt_d', 'last_pymnt_amnt',\n",
       "       'last_credit_pull_d', 'collections_12_mths_ex_med', 'policy_code',\n",
       "       'application_type', 'acc_now_delinq', 'chargeoff_within_12_mths',\n",
       "       'delinq_amnt', 'pub_rec_bankruptcies', 'tax_liens', 'hardship_flag',\n",
       "       'debt_settlement_flag'],\n",
       "      dtype='object')"
      ]
     },
     "execution_count": 9,
     "metadata": {},
     "output_type": "execute_result"
    }
   ],
   "source": [
    "loan.columns"
   ]
  },
  {
   "cell_type": "markdown",
   "metadata": {},
   "source": [
    "1. funded amount-al amount committed to that loan at that point in time.\n",
    "2. funded amount invv- The total amount committed by investors for that loan at that point in time.\n",
    "3. loan amount-The listed amount of the loan applied for by the borrower. If at some point in time, the credit department reduces the loan amount, then it will be reflected in this value."
   ]
  },
  {
   "cell_type": "code",
   "execution_count": 10,
   "metadata": {},
   "outputs": [],
   "source": [
    "#39791 after this is all the data that dont meet credit policy"
   ]
  },
  {
   "cell_type": "markdown",
   "metadata": {},
   "source": [
    "### loan_status contains the data whether the loan was paid of or if the person is a defaulter or not\n",
    "### and it also contains if the person satisfies the credit policy or not\n",
    "### fully paid and charged of are the 2 catogories"
   ]
  },
  {
   "cell_type": "code",
   "execution_count": 11,
   "metadata": {},
   "outputs": [],
   "source": [
    "# this will be the target column"
   ]
  },
  {
   "cell_type": "code",
   "execution_count": 12,
   "metadata": {},
   "outputs": [],
   "source": [
    "# converting the target column"
   ]
  },
  {
   "cell_type": "code",
   "execution_count": 13,
   "metadata": {},
   "outputs": [],
   "source": [
    "target1=[]\n",
    "for i in range(len(loan.loan_amnt)):\n",
    "    if loan.loan_status[i]=='Fully Paid':\n",
    "        target1.append(1)\n",
    "    elif loan.loan_status[i]=='Charged Off':\n",
    "        target1.append(0)\n",
    "    elif loan.loan_status[i]=='Does not meet the credit policy. Status:Fully Paid':\n",
    "        target1.append(1)\n",
    "    elif loan.loan_status[i]=='Does not meet the credit policy. Status:Charged Off':\n",
    "        target1.append(0)\n",
    "# defaulters are marked as 0"
   ]
  },
  {
   "cell_type": "code",
   "execution_count": 14,
   "metadata": {},
   "outputs": [
    {
     "data": {
      "text/plain": [
       "42535"
      ]
     },
     "execution_count": 14,
     "metadata": {},
     "output_type": "execute_result"
    }
   ],
   "source": [
    "len(target1)"
   ]
  },
  {
   "cell_type": "code",
   "execution_count": 15,
   "metadata": {},
   "outputs": [],
   "source": [
    "loan['target']=target1"
   ]
  },
  {
   "cell_type": "code",
   "execution_count": 16,
   "metadata": {},
   "outputs": [],
   "source": [
    "# creating a new column whether the person meets credit policy or not"
   ]
  },
  {
   "cell_type": "code",
   "execution_count": 16,
   "metadata": {},
   "outputs": [
    {
     "data": {
      "text/plain": [
       "1    36104\n",
       "0     6431\n",
       "Name: target, dtype: int64"
      ]
     },
     "execution_count": 16,
     "metadata": {},
     "output_type": "execute_result"
    }
   ],
   "source": [
    "loan.target.value_counts()"
   ]
  },
  {
   "cell_type": "code",
   "execution_count": 17,
   "metadata": {},
   "outputs": [],
   "source": [
    "credit_policy=[]\n",
    "for i in range(len(loan.loan_amnt)):\n",
    "    if loan.loan_status[i] in ['Fully Paid','Charged Off']:\n",
    "        credit_policy.append(1)\n",
    "    else:\n",
    "        credit_policy.append(0)"
   ]
  },
  {
   "cell_type": "code",
   "execution_count": 18,
   "metadata": {},
   "outputs": [],
   "source": [
    "loan['credit_policy']=credit_policy"
   ]
  },
  {
   "cell_type": "code",
   "execution_count": 19,
   "metadata": {},
   "outputs": [
    {
     "data": {
      "text/plain": [
       "1    36104\n",
       "0     6431\n",
       "Name: target, dtype: int64"
      ]
     },
     "execution_count": 19,
     "metadata": {},
     "output_type": "execute_result"
    }
   ],
   "source": [
    "loan.target.value_counts()"
   ]
  },
  {
   "cell_type": "code",
   "execution_count": 20,
   "metadata": {},
   "outputs": [
    {
     "data": {
      "text/plain": [
       "1    39786\n",
       "0     2749\n",
       "Name: credit_policy, dtype: int64"
      ]
     },
     "execution_count": 20,
     "metadata": {},
     "output_type": "execute_result"
    }
   ],
   "source": [
    "loan.drop('loan_status',axis=1,inplace=True)\n",
    "loan.credit_policy.value_counts()"
   ]
  },
  {
   "cell_type": "code",
   "execution_count": 21,
   "metadata": {},
   "outputs": [],
   "source": [
    "loan.drop(['installment','funded_amnt','funded_amnt_inv'],axis=1,inplace=True)"
   ]
  },
  {
   "cell_type": "code",
   "execution_count": 22,
   "metadata": {},
   "outputs": [
    {
     "data": {
      "text/plain": [
       "30658"
      ]
     },
     "execution_count": 22,
     "metadata": {},
     "output_type": "execute_result"
    }
   ],
   "source": [
    "loan.emp_title.nunique()"
   ]
  },
  {
   "cell_type": "code",
   "execution_count": 23,
   "metadata": {},
   "outputs": [],
   "source": [
    "#since there are 30658 unique titles in emp_title it is of less relevance and will make the model complex, hence we will drop it"
   ]
  },
  {
   "cell_type": "code",
   "execution_count": 24,
   "metadata": {},
   "outputs": [],
   "source": [
    "loan.drop('emp_title',axis=1,inplace=True)"
   ]
  },
  {
   "cell_type": "code",
   "execution_count": 25,
   "metadata": {},
   "outputs": [
    {
     "data": {
      "text/plain": [
       "10+ years    9369\n",
       "< 1 year     5062\n",
       "2 years      4743\n",
       "3 years      4364\n",
       "4 years      3649\n",
       "1 year       3595\n",
       "5 years      3458\n",
       "6 years      2375\n",
       "7 years      1875\n",
       "8 years      1592\n",
       "9 years      1341\n",
       "Name: emp_length, dtype: int64"
      ]
     },
     "execution_count": 25,
     "metadata": {},
     "output_type": "execute_result"
    }
   ],
   "source": [
    "loan.emp_length.value_counts()"
   ]
  },
  {
   "cell_type": "code",
   "execution_count": 26,
   "metadata": {},
   "outputs": [
    {
     "data": {
      "text/plain": [
       "<matplotlib.axes._subplots.AxesSubplot at 0x27dcc90c4a8>"
      ]
     },
     "execution_count": 26,
     "metadata": {},
     "output_type": "execute_result"
    },
    {
     "data": {
      "image/png": "[encoded data removed]",
      "text/plain": [
       "<Figure size 576x576 with 1 Axes>"
      ]
     },
     "metadata": {
      "needs_background": "light"
     },
     "output_type": "display_data"
    }
   ],
   "source": [
    "plt.figure(figsize=(8,8))\n",
    "sns.countplot(loan['emp_length'])"
   ]
  },
  {
   "cell_type": "code",
   "execution_count": 27,
   "metadata": {},
   "outputs": [],
   "source": [
    "#majority of the loans are given to employee with 10+ years of experience, followed by with less than 1 year"
   ]
  },
  {
   "cell_type": "code",
   "execution_count": 28,
   "metadata": {},
   "outputs": [
    {
     "data": {
      "text/plain": [
       "RENT        20181\n",
       "MORTGAGE    18959\n",
       "OWN          3251\n",
       "OTHER         136\n",
       "NONE            8\n",
       "Name: home_ownership, dtype: int64"
      ]
     },
     "execution_count": 28,
     "metadata": {},
     "output_type": "execute_result"
    }
   ],
   "source": [
    "loan.home_ownership.value_counts()"
   ]
  },
  {
   "cell_type": "code",
   "execution_count": 29,
   "metadata": {},
   "outputs": [
    {
     "data": {
      "text/html": [
       "<div>\n",
       "<style scoped>\n",
       "    .dataframe tbody tr th:only-of-type {\n",
       "        vertical-align: middle;\n",
       "    }\n",
       "\n",
       "    .dataframe tbody tr th {\n",
       "        vertical-align: top;\n",
       "    }\n",
       "\n",
       "    .dataframe thead th {\n",
       "        text-align: right;\n",
       "    }\n",
       "</style>\n",
       "<table border=\"1\" class=\"dataframe\">\n",
       "  <thead>\n",
       "    <tr style=\"text-align: right;\">\n",
       "      <th></th>\n",
       "      <th>loan_amnt</th>\n",
       "      <th>term</th>\n",
       "      <th>int_rate</th>\n",
       "      <th>grade</th>\n",
       "      <th>sub_grade</th>\n",
       "      <th>emp_length</th>\n",
       "      <th>home_ownership</th>\n",
       "      <th>annual_inc</th>\n",
       "      <th>verification_status</th>\n",
       "      <th>issue_d</th>\n",
       "      <th>...</th>\n",
       "      <th>application_type</th>\n",
       "      <th>acc_now_delinq</th>\n",
       "      <th>chargeoff_within_12_mths</th>\n",
       "      <th>delinq_amnt</th>\n",
       "      <th>pub_rec_bankruptcies</th>\n",
       "      <th>tax_liens</th>\n",
       "      <th>hardship_flag</th>\n",
       "      <th>debt_settlement_flag</th>\n",
       "      <th>target</th>\n",
       "      <th>credit_policy</th>\n",
       "    </tr>\n",
       "  </thead>\n",
       "  <tbody>\n",
       "    <tr>\n",
       "      <th>39387</th>\n",
       "      <td>10000</td>\n",
       "      <td>36 months</td>\n",
       "      <td>7.75%</td>\n",
       "      <td>A</td>\n",
       "      <td>A3</td>\n",
       "      <td>5 years</td>\n",
       "      <td>NONE</td>\n",
       "      <td>22200.0</td>\n",
       "      <td>Not Verified</td>\n",
       "      <td>Jan-08</td>\n",
       "      <td>...</td>\n",
       "      <td>Individual</td>\n",
       "      <td>0.0</td>\n",
       "      <td>0.0</td>\n",
       "      <td>0.0</td>\n",
       "      <td>NaN</td>\n",
       "      <td>0.0</td>\n",
       "      <td>N</td>\n",
       "      <td>N</td>\n",
       "      <td>1</td>\n",
       "      <td>1</td>\n",
       "    </tr>\n",
       "    <tr>\n",
       "      <th>39728</th>\n",
       "      <td>4000</td>\n",
       "      <td>36 months</td>\n",
       "      <td>9.64%</td>\n",
       "      <td>B</td>\n",
       "      <td>B4</td>\n",
       "      <td>&lt; 1 year</td>\n",
       "      <td>NONE</td>\n",
       "      <td>100000.0</td>\n",
       "      <td>Not Verified</td>\n",
       "      <td>Aug-07</td>\n",
       "      <td>...</td>\n",
       "      <td>Individual</td>\n",
       "      <td>0.0</td>\n",
       "      <td>NaN</td>\n",
       "      <td>0.0</td>\n",
       "      <td>NaN</td>\n",
       "      <td>NaN</td>\n",
       "      <td>N</td>\n",
       "      <td>N</td>\n",
       "      <td>1</td>\n",
       "      <td>1</td>\n",
       "    </tr>\n",
       "    <tr>\n",
       "      <th>39729</th>\n",
       "      <td>2800</td>\n",
       "      <td>36 months</td>\n",
       "      <td>8.70%</td>\n",
       "      <td>B</td>\n",
       "      <td>B1</td>\n",
       "      <td>&lt; 1 year</td>\n",
       "      <td>NONE</td>\n",
       "      <td>120000.0</td>\n",
       "      <td>Not Verified</td>\n",
       "      <td>Aug-07</td>\n",
       "      <td>...</td>\n",
       "      <td>Individual</td>\n",
       "      <td>0.0</td>\n",
       "      <td>NaN</td>\n",
       "      <td>0.0</td>\n",
       "      <td>NaN</td>\n",
       "      <td>NaN</td>\n",
       "      <td>N</td>\n",
       "      <td>N</td>\n",
       "      <td>1</td>\n",
       "      <td>1</td>\n",
       "    </tr>\n",
       "    <tr>\n",
       "      <th>42211</th>\n",
       "      <td>15000</td>\n",
       "      <td>36 months</td>\n",
       "      <td>15.65%</td>\n",
       "      <td>F</td>\n",
       "      <td>F3</td>\n",
       "      <td>6 years</td>\n",
       "      <td>NONE</td>\n",
       "      <td>72000.0</td>\n",
       "      <td>Not Verified</td>\n",
       "      <td>Dec-07</td>\n",
       "      <td>...</td>\n",
       "      <td>Individual</td>\n",
       "      <td>0.0</td>\n",
       "      <td>0.0</td>\n",
       "      <td>0.0</td>\n",
       "      <td>NaN</td>\n",
       "      <td>0.0</td>\n",
       "      <td>N</td>\n",
       "      <td>N</td>\n",
       "      <td>0</td>\n",
       "      <td>0</td>\n",
       "    </tr>\n",
       "    <tr>\n",
       "      <th>42449</th>\n",
       "      <td>5000</td>\n",
       "      <td>36 months</td>\n",
       "      <td>7.43%</td>\n",
       "      <td>A</td>\n",
       "      <td>A2</td>\n",
       "      <td>&lt; 1 year</td>\n",
       "      <td>NONE</td>\n",
       "      <td>NaN</td>\n",
       "      <td>Not Verified</td>\n",
       "      <td>Aug-07</td>\n",
       "      <td>...</td>\n",
       "      <td>Individual</td>\n",
       "      <td>NaN</td>\n",
       "      <td>NaN</td>\n",
       "      <td>NaN</td>\n",
       "      <td>NaN</td>\n",
       "      <td>NaN</td>\n",
       "      <td>N</td>\n",
       "      <td>N</td>\n",
       "      <td>1</td>\n",
       "      <td>0</td>\n",
       "    </tr>\n",
       "    <tr>\n",
       "      <th>42450</th>\n",
       "      <td>7000</td>\n",
       "      <td>36 months</td>\n",
       "      <td>7.75%</td>\n",
       "      <td>A</td>\n",
       "      <td>A3</td>\n",
       "      <td>&lt; 1 year</td>\n",
       "      <td>NONE</td>\n",
       "      <td>NaN</td>\n",
       "      <td>Not Verified</td>\n",
       "      <td>Aug-07</td>\n",
       "      <td>...</td>\n",
       "      <td>Individual</td>\n",
       "      <td>NaN</td>\n",
       "      <td>NaN</td>\n",
       "      <td>NaN</td>\n",
       "      <td>NaN</td>\n",
       "      <td>NaN</td>\n",
       "      <td>N</td>\n",
       "      <td>N</td>\n",
       "      <td>1</td>\n",
       "      <td>0</td>\n",
       "    </tr>\n",
       "    <tr>\n",
       "      <th>42480</th>\n",
       "      <td>6700</td>\n",
       "      <td>36 months</td>\n",
       "      <td>7.75%</td>\n",
       "      <td>A</td>\n",
       "      <td>A3</td>\n",
       "      <td>&lt; 1 year</td>\n",
       "      <td>NONE</td>\n",
       "      <td>NaN</td>\n",
       "      <td>Not Verified</td>\n",
       "      <td>Jul-07</td>\n",
       "      <td>...</td>\n",
       "      <td>Individual</td>\n",
       "      <td>NaN</td>\n",
       "      <td>NaN</td>\n",
       "      <td>NaN</td>\n",
       "      <td>NaN</td>\n",
       "      <td>NaN</td>\n",
       "      <td>N</td>\n",
       "      <td>N</td>\n",
       "      <td>1</td>\n",
       "      <td>0</td>\n",
       "    </tr>\n",
       "    <tr>\n",
       "      <th>42533</th>\n",
       "      <td>6500</td>\n",
       "      <td>36 months</td>\n",
       "      <td>8.38%</td>\n",
       "      <td>A</td>\n",
       "      <td>A5</td>\n",
       "      <td>&lt; 1 year</td>\n",
       "      <td>NONE</td>\n",
       "      <td>NaN</td>\n",
       "      <td>Not Verified</td>\n",
       "      <td>Jun-07</td>\n",
       "      <td>...</td>\n",
       "      <td>Individual</td>\n",
       "      <td>NaN</td>\n",
       "      <td>NaN</td>\n",
       "      <td>NaN</td>\n",
       "      <td>NaN</td>\n",
       "      <td>NaN</td>\n",
       "      <td>N</td>\n",
       "      <td>N</td>\n",
       "      <td>1</td>\n",
       "      <td>0</td>\n",
       "    </tr>\n",
       "  </tbody>\n",
       "</table>\n",
       "<p>8 rows × 51 columns</p>\n",
       "</div>"
      ],
      "text/plain": [
       "       loan_amnt        term int_rate grade sub_grade emp_length  \\\n",
       "39387      10000   36 months    7.75%     A        A3    5 years   \n",
       "39728       4000   36 months    9.64%     B        B4   < 1 year   \n",
       "39729       2800   36 months    8.70%     B        B1   < 1 year   \n",
       "42211      15000   36 months   15.65%     F        F3    6 years   \n",
       "42449       5000   36 months    7.43%     A        A2   < 1 year   \n",
       "42450       7000   36 months    7.75%     A        A3   < 1 year   \n",
       "42480       6700   36 months    7.75%     A        A3   < 1 year   \n",
       "42533       6500   36 months    8.38%     A        A5   < 1 year   \n",
       "\n",
       "      home_ownership  annual_inc verification_status issue_d      ...        \\\n",
       "39387           NONE     22200.0        Not Verified  Jan-08      ...         \n",
       "39728           NONE    100000.0        Not Verified  Aug-07      ...         \n",
       "39729           NONE    120000.0        Not Verified  Aug-07      ...         \n",
       "42211           NONE     72000.0        Not Verified  Dec-07      ...         \n",
       "42449           NONE         NaN        Not Verified  Aug-07      ...         \n",
       "42450           NONE         NaN        Not Verified  Aug-07      ...         \n",
       "42480           NONE         NaN        Not Verified  Jul-07      ...         \n",
       "42533           NONE         NaN        Not Verified  Jun-07      ...         \n",
       "\n",
       "      application_type acc_now_delinq chargeoff_within_12_mths delinq_amnt  \\\n",
       "39387       Individual            0.0                      0.0         0.0   \n",
       "39728       Individual            0.0                      NaN         0.0   \n",
       "39729       Individual            0.0                      NaN         0.0   \n",
       "42211       Individual            0.0                      0.0         0.0   \n",
       "42449       Individual            NaN                      NaN         NaN   \n",
       "42450       Individual            NaN                      NaN         NaN   \n",
       "42480       Individual            NaN                      NaN         NaN   \n",
       "42533       Individual            NaN                      NaN         NaN   \n",
       "\n",
       "      pub_rec_bankruptcies tax_liens  hardship_flag  debt_settlement_flag  \\\n",
       "39387                  NaN       0.0              N                     N   \n",
       "39728                  NaN       NaN              N                     N   \n",
       "39729                  NaN       NaN              N                     N   \n",
       "42211                  NaN       0.0              N                     N   \n",
       "42449                  NaN       NaN              N                     N   \n",
       "42450                  NaN       NaN              N                     N   \n",
       "42480                  NaN       NaN              N                     N   \n",
       "42533                  NaN       NaN              N                     N   \n",
       "\n",
       "      target  credit_policy  \n",
       "39387      1              1  \n",
       "39728      1              1  \n",
       "39729      1              1  \n",
       "42211      0              0  \n",
       "42449      1              0  \n",
       "42450      1              0  \n",
       "42480      1              0  \n",
       "42533      1              0  \n",
       "\n",
       "[8 rows x 51 columns]"
      ]
     },
     "execution_count": 29,
     "metadata": {},
     "output_type": "execute_result"
    }
   ],
   "source": [
    "#checking the values for the person who doesnt have a home\n",
    "loan[loan.home_ownership=='NONE']"
   ]
  },
  {
   "cell_type": "code",
   "execution_count": 30,
   "metadata": {},
   "outputs": [],
   "source": [
    "#for these people the loan amount and the amount funded is different "
   ]
  },
  {
   "cell_type": "markdown",
   "metadata": {},
   "source": [
    "I'm also interested in knowing what this amount funded by investors really means. My assumption is\n",
    "that it is the share of the loan funded by lenders of the platform, whilst the outstanding amount\n",
    "would be funded by LC itself. One can also observe that these amounts have rebalanced over time \n",
    "with more and more loans being funded mainly by \"investors\" and less and less loans being funded \n",
    "\"LC\". This can be explained by the fact that LC first funded most of the loans that were listed on\n",
    "the platform in order to launch the business and gain momentum and popularity among the participants\n",
    "(i.e. borrowers and lenders), then as the platform became more popular, LC peu à peu withdrew itself \n",
    "and let the real lenders fund those loans.\n",
    "source=https://forum.lendacademy.com/index.php?topic=254.0"
   ]
  },
  {
   "cell_type": "code",
   "execution_count": 31,
   "metadata": {},
   "outputs": [],
   "source": [
    "date=pd.to_datetime(loan['issue_d'],format='%b-%y')\n",
    "loan['year']=date.dt.year"
   ]
  },
  {
   "cell_type": "code",
   "execution_count": 32,
   "metadata": {},
   "outputs": [
    {
     "name": "stderr",
     "output_type": "stream",
     "text": [
      "C:\\Users\\vansh\\Anaconda4\\lib\\site-packages\\scipy\\stats\\stats.py:1713: FutureWarning: Using a non-tuple sequence for multidimensional indexing is deprecated; use `arr[tuple(seq)]` instead of `arr[seq]`. In the future this will be interpreted as an array index, `arr[np.array(seq)]`, which will result either in an error or a different result.\n",
      "  return np.add.reduce(sorted[indexer] * weights, axis=axis) / sumval\n"
     ]
    },
    {
     "data": {
      "text/plain": [
       "Text(0, 0.5, 'average amount')"
      ]
     },
     "execution_count": 32,
     "metadata": {},
     "output_type": "execute_result"
    },
    {
     "data": {
      "image/png": "[encoded data removed]",
      "text/plain": [
       "<Figure size 648x648 with 1 Axes>"
      ]
     },
     "metadata": {
      "needs_background": "light"
     },
     "output_type": "display_data"
    }
   ],
   "source": [
    "plt.figure(figsize=(9,9))\n",
    "sns.barplot(loan.year,loan.loan_amnt)\n",
    "plt.ylabel('average amount')"
   ]
  },
  {
   "cell_type": "code",
   "execution_count": 33,
   "metadata": {},
   "outputs": [
    {
     "data": {
      "text/plain": [
       "<matplotlib.axes._subplots.AxesSubplot at 0x27dd28bc7f0>"
      ]
     },
     "execution_count": 33,
     "metadata": {},
     "output_type": "execute_result"
    },
    {
     "data": {
      "image/png": "[encoded data removed]",
      "text/plain": [
       "<Figure size 576x576 with 1 Axes>"
      ]
     },
     "metadata": {
      "needs_background": "light"
     },
     "output_type": "display_data"
    }
   ],
   "source": [
    "plt.figure(figsize=(8,8))\n",
    "sns.countplot(loan.year)"
   ]
  },
  {
   "cell_type": "code",
   "execution_count": 34,
   "metadata": {},
   "outputs": [],
   "source": [
    "#as the year increase the amount of loans passed are also increasing"
   ]
  },
  {
   "cell_type": "code",
   "execution_count": 35,
   "metadata": {},
   "outputs": [
    {
     "data": {
      "text/plain": [
       "<matplotlib.axes._subplots.AxesSubplot at 0x27dd4b099b0>"
      ]
     },
     "execution_count": 35,
     "metadata": {},
     "output_type": "execute_result"
    },
    {
     "data": {
      "image/png": "[encoded data removed]",
      "text/plain": [
       "<Figure size 432x288 with 1 Axes>"
      ]
     },
     "metadata": {
      "needs_background": "light"
     },
     "output_type": "display_data"
    }
   ],
   "source": [
    "sns.boxplot(loan.target,loan.loan_amnt)"
   ]
  },
  {
   "cell_type": "code",
   "execution_count": 36,
   "metadata": {},
   "outputs": [
    {
     "data": {
      "text/plain": [
       "n    42535\n",
       "Name: pymnt_plan, dtype: int64"
      ]
     },
     "execution_count": 36,
     "metadata": {},
     "output_type": "execute_result"
    }
   ],
   "source": [
    "loan.pymnt_plan.value_counts()"
   ]
  },
  {
   "cell_type": "code",
   "execution_count": 37,
   "metadata": {},
   "outputs": [],
   "source": [
    "#since there is no payment plan for the data we can drop it"
   ]
  },
  {
   "cell_type": "code",
   "execution_count": 38,
   "metadata": {},
   "outputs": [],
   "source": [
    "loan.drop('pymnt_plan',axis=1,inplace=True)"
   ]
  },
  {
   "cell_type": "code",
   "execution_count": 39,
   "metadata": {},
   "outputs": [
    {
     "data": {
      "text/plain": [
       "<matplotlib.axes._subplots.AxesSubplot at 0x27dd4da0c88>"
      ]
     },
     "execution_count": 39,
     "metadata": {},
     "output_type": "execute_result"
    },
    {
     "data": {
      "image/png": "[encoded data removed]",
      "text/plain": [
       "<Figure size 720x720 with 1 Axes>"
      ]
     },
     "metadata": {
      "needs_background": "light"
     },
     "output_type": "display_data"
    }
   ],
   "source": [
    "plt.figure(figsize=(10,10))\n",
    "loan[loan.target==0].groupby('addr_state').target.count().sort_values().plot(kind='barh')\n",
    "#we can see CA has highest default rate"
   ]
  },
  {
   "cell_type": "code",
   "execution_count": 40,
   "metadata": {},
   "outputs": [
    {
     "data": {
      "text/plain": [
       "debt_consolidation    19776\n",
       "credit_card            5477\n",
       "other                  4425\n",
       "home_improvement       3199\n",
       "major_purchase         2311\n",
       "small_business         1992\n",
       "car                    1615\n",
       "wedding                1004\n",
       "medical                 753\n",
       "moving                  629\n",
       "house                   426\n",
       "educational             422\n",
       "vacation                400\n",
       "renewable_energy        106\n",
       "Name: purpose, dtype: int64"
      ]
     },
     "execution_count": 40,
     "metadata": {},
     "output_type": "execute_result"
    }
   ],
   "source": [
    "loan.purpose.value_counts()"
   ]
  },
  {
   "cell_type": "code",
   "execution_count": 41,
   "metadata": {},
   "outputs": [],
   "source": [
    "#plotting purpose with respect to the target column"
   ]
  },
  {
   "cell_type": "code",
   "execution_count": 42,
   "metadata": {},
   "outputs": [
    {
     "data": {
      "text/plain": [
       "(array([ 0,  1,  2,  3,  4,  5,  6,  7,  8,  9, 10, 11, 12, 13]),\n",
       " <a list of 14 Text xticklabel objects>)"
      ]
     },
     "execution_count": 42,
     "metadata": {},
     "output_type": "execute_result"
    },
    {
     "data": {
      "image/png": "[encoded data removed]",
      "text/plain": [
       "<Figure size 720x720 with 1 Axes>"
      ]
     },
     "metadata": {
      "needs_background": "light"
     },
     "output_type": "display_data"
    }
   ],
   "source": [
    "plt.figure(figsize=[10,10])\n",
    "sns.countplot(loan.purpose)\n",
    "plt.xticks(rotation=90)\n"
   ]
  },
  {
   "cell_type": "code",
   "execution_count": 43,
   "metadata": {},
   "outputs": [],
   "source": [
    "# deleting the description column because the information provided over there has been generalized in the purpose column"
   ]
  },
  {
   "cell_type": "code",
   "execution_count": 44,
   "metadata": {},
   "outputs": [
    {
     "data": {
      "text/plain": [
       "21253"
      ]
     },
     "execution_count": 44,
     "metadata": {},
     "output_type": "execute_result"
    }
   ],
   "source": [
    "loan.title.nunique()\n",
    "#there are 21253 unique values hence we can drop it"
   ]
  },
  {
   "cell_type": "code",
   "execution_count": 45,
   "metadata": {},
   "outputs": [],
   "source": [
    "loan.drop('title',axis=1,inplace=True)"
   ]
  },
  {
   "cell_type": "code",
   "execution_count": 46,
   "metadata": {},
   "outputs": [
    {
     "name": "stdout",
     "output_type": "stream",
     "text": [
      "CA    7429\n",
      "NY    4065\n",
      "FL    3104\n",
      "TX    2915\n",
      "NJ    1988\n",
      "IL    1672\n",
      "PA    1651\n",
      "GA    1503\n",
      "VA    1487\n",
      "MA    1438\n",
      "OH    1329\n",
      "MD    1125\n",
      "AZ     933\n",
      "WA     888\n",
      "CO     857\n",
      "NC     830\n",
      "CT     816\n",
      "MI     796\n",
      "MO     765\n",
      "MN     652\n",
      "NV     527\n",
      "WI     516\n",
      "SC     489\n",
      "AL     484\n",
      "OR     468\n",
      "LA     461\n",
      "KY     359\n",
      "OK     317\n",
      "KS     298\n",
      "UT     278\n",
      "AR     261\n",
      "DC     224\n",
      "RI     208\n",
      "NM     205\n",
      "NH     188\n",
      "WV     187\n",
      "HI     181\n",
      "DE     136\n",
      "MT      96\n",
      "WY      87\n",
      "AK      86\n",
      "SD      67\n",
      "VT      57\n",
      "TN      32\n",
      "MS      26\n",
      "IN      19\n",
      "IA      12\n",
      "NE      11\n",
      "ID       9\n",
      "ME       3\n",
      "Name: addr_state, dtype: int64\n"
     ]
    }
   ],
   "source": [
    "print(loan.addr_state.value_counts())\n",
    "# we have states to generalize the data based upon location hence we can delete zip code\n",
    "loan.drop('zip_code',axis=1,inplace=True)"
   ]
  },
  {
   "cell_type": "code",
   "execution_count": 47,
   "metadata": {},
   "outputs": [],
   "source": [
    "#dti=A ratio calculated using the borrower’s total monthly debt payments on the total debt\n",
    "#obligations, excluding mortgage and the requested LC loan, divided by the borrower’s self-reported monthly income.\n"
   ]
  },
  {
   "cell_type": "code",
   "execution_count": 48,
   "metadata": {},
   "outputs": [
    {
     "name": "stderr",
     "output_type": "stream",
     "text": [
      "C:\\Users\\vansh\\Anaconda4\\lib\\site-packages\\scipy\\stats\\stats.py:1713: FutureWarning: Using a non-tuple sequence for multidimensional indexing is deprecated; use `arr[tuple(seq)]` instead of `arr[seq]`. In the future this will be interpreted as an array index, `arr[np.array(seq)]`, which will result either in an error or a different result.\n",
      "  return np.add.reduce(sorted[indexer] * weights, axis=axis) / sumval\n"
     ]
    },
    {
     "data": {
      "text/plain": [
       "<matplotlib.axes._subplots.AxesSubplot at 0x27ddbc7f710>"
      ]
     },
     "execution_count": 48,
     "metadata": {},
     "output_type": "execute_result"
    },
    {
     "data": {
      "image/png": "[encoded data removed]",
      "text/plain": [
       "<Figure size 432x288 with 1 Axes>"
      ]
     },
     "metadata": {
      "needs_background": "light"
     },
     "output_type": "display_data"
    }
   ],
   "source": [
    "sns.distplot(loan.dti)"
   ]
  },
  {
   "cell_type": "code",
   "execution_count": 49,
   "metadata": {},
   "outputs": [
    {
     "data": {
      "text/plain": [
       "<matplotlib.axes._subplots.AxesSubplot at 0x27dd46f1c88>"
      ]
     },
     "execution_count": 49,
     "metadata": {},
     "output_type": "execute_result"
    },
    {
     "data": {
      "image/png": "[encoded data removed]",
      "text/plain": [
       "<Figure size 432x288 with 1 Axes>"
      ]
     },
     "metadata": {
      "needs_background": "light"
     },
     "output_type": "display_data"
    }
   ],
   "source": [
    "sns.boxplot(loan.target,loan.dti)"
   ]
  },
  {
   "cell_type": "code",
   "execution_count": 50,
   "metadata": {},
   "outputs": [],
   "source": [
    "#In the personal finance field, the term \"delinquent\" commonly refers to a situation where a borrower is\n",
    "#late or overdue on a payment"
   ]
  },
  {
   "cell_type": "code",
   "execution_count": 51,
   "metadata": {},
   "outputs": [],
   "source": [
    "interest=[]\n",
    "for i in loan['int_rate']:\n",
    "    interest.append(float(i.rstrip('%')))"
   ]
  },
  {
   "cell_type": "code",
   "execution_count": 52,
   "metadata": {},
   "outputs": [],
   "source": [
    "loan['int_rate']=interest"
   ]
  },
  {
   "cell_type": "code",
   "execution_count": 53,
   "metadata": {},
   "outputs": [
    {
     "name": "stdout",
     "output_type": "stream",
     "text": [
      "<class 'pandas.core.frame.DataFrame'>\n",
      "RangeIndex: 42535 entries, 0 to 42534\n",
      "Data columns (total 49 columns):\n",
      "loan_amnt                     42535 non-null int64\n",
      "term                          42535 non-null object\n",
      "int_rate                      42535 non-null float64\n",
      "grade                         42535 non-null object\n",
      "sub_grade                     42535 non-null object\n",
      "emp_length                    41423 non-null object\n",
      "home_ownership                42535 non-null object\n",
      "annual_inc                    42531 non-null float64\n",
      "verification_status           42535 non-null object\n",
      "issue_d                       42535 non-null object\n",
      "desc                          29242 non-null object\n",
      "purpose                       42535 non-null object\n",
      "addr_state                    42535 non-null object\n",
      "dti                           42535 non-null float64\n",
      "delinq_2yrs                   42506 non-null float64\n",
      "earliest_cr_line              42506 non-null object\n",
      "inq_last_6mths                42506 non-null float64\n",
      "mths_since_last_delinq        15609 non-null float64\n",
      "open_acc                      42506 non-null float64\n",
      "pub_rec                       42506 non-null float64\n",
      "revol_bal                     42535 non-null int64\n",
      "revol_util                    42445 non-null object\n",
      "total_acc                     42506 non-null float64\n",
      "initial_list_status           42535 non-null object\n",
      "out_prncp                     42535 non-null int64\n",
      "out_prncp_inv                 42535 non-null int64\n",
      "total_pymnt                   42535 non-null float64\n",
      "total_pymnt_inv               42535 non-null float64\n",
      "total_rec_prncp               42535 non-null float64\n",
      "total_rec_int                 42535 non-null float64\n",
      "total_rec_late_fee            42535 non-null float64\n",
      "recoveries                    42535 non-null float64\n",
      "collection_recovery_fee       42535 non-null float64\n",
      "last_pymnt_d                  42452 non-null object\n",
      "last_pymnt_amnt               42535 non-null float64\n",
      "last_credit_pull_d            42531 non-null object\n",
      "collections_12_mths_ex_med    42390 non-null float64\n",
      "policy_code                   42535 non-null int64\n",
      "application_type              42535 non-null object\n",
      "acc_now_delinq                42506 non-null float64\n",
      "chargeoff_within_12_mths      42390 non-null float64\n",
      "delinq_amnt                   42506 non-null float64\n",
      "pub_rec_bankruptcies          41170 non-null float64\n",
      "tax_liens                     42430 non-null float64\n",
      "hardship_flag                 42535 non-null object\n",
      "debt_settlement_flag          42535 non-null object\n",
      "target                        42535 non-null int64\n",
      "credit_policy                 42535 non-null int64\n",
      "year                          42535 non-null int64\n",
      "dtypes: float64(23), int64(8), object(18)\n",
      "memory usage: 15.9+ MB\n"
     ]
    }
   ],
   "source": [
    "loan.info()"
   ]
  },
  {
   "cell_type": "code",
   "execution_count": 54,
   "metadata": {},
   "outputs": [
    {
     "data": {
      "text/plain": [
       "Not Verified       18758\n",
       "Verified           13471\n",
       "Source Verified    10306\n",
       "Name: verification_status, dtype: int64"
      ]
     },
     "execution_count": 54,
     "metadata": {},
     "output_type": "execute_result"
    }
   ],
   "source": [
    "loan.verification_status.value_counts()"
   ]
  },
  {
   "cell_type": "code",
   "execution_count": 55,
   "metadata": {},
   "outputs": [],
   "source": [
    "loan.drop('desc',axis=1,inplace=True)"
   ]
  },
  {
   "cell_type": "code",
   "execution_count": 56,
   "metadata": {
    "scrolled": true
   },
   "outputs": [
    {
     "data": {
      "text/plain": [
       "loan_amnt                    -0.042582\n",
       "int_rate                     -0.200598\n",
       "annual_inc                    0.037994\n",
       "dti                          -0.042198\n",
       "delinq_2yrs                  -0.019487\n",
       "inq_last_6mths               -0.110900\n",
       "mths_since_last_delinq        0.013912\n",
       "open_acc                      0.005972\n",
       "pub_rec                      -0.053763\n",
       "revol_bal                    -0.017186\n",
       "total_acc                     0.021115\n",
       "out_prncp                          NaN\n",
       "out_prncp_inv                      NaN\n",
       "total_pymnt                   0.245368\n",
       "total_pymnt_inv               0.242825\n",
       "total_rec_prncp               0.342275\n",
       "total_rec_int                 0.017518\n",
       "total_rec_late_fee           -0.156308\n",
       "recoveries                   -0.331857\n",
       "collection_recovery_fee      -0.210536\n",
       "last_pymnt_amnt               0.220305\n",
       "collections_12_mths_ex_med         NaN\n",
       "policy_code                        NaN\n",
       "acc_now_delinq                0.004095\n",
       "chargeoff_within_12_mths           NaN\n",
       "delinq_amnt                   0.002056\n",
       "pub_rec_bankruptcies         -0.053810\n",
       "tax_liens                     0.002050\n",
       "target                        1.000000\n",
       "credit_policy                 0.092185\n",
       "year                          0.025840\n",
       "Name: target, dtype: float64"
      ]
     },
     "execution_count": 56,
     "metadata": {},
     "output_type": "execute_result"
    }
   ],
   "source": [
    "loan.corr().target"
   ]
  },
  {
   "cell_type": "code",
   "execution_count": 57,
   "metadata": {},
   "outputs": [],
   "source": [
    "#deleting all the columns that have less than 3% corr\n",
    "loan.drop(['year','tax_liens','delinq_amnt','acc_now_delinq','total_rec_int','total_acc','revol_bal','open_acc',\n",
    "           'mths_since_last_delinq','delinq_2yrs'],axis=1,inplace=True)"
   ]
  },
  {
   "cell_type": "code",
   "execution_count": 58,
   "metadata": {},
   "outputs": [
    {
     "data": {
      "text/plain": [
       "loan_amnt                        0\n",
       "term                             0\n",
       "int_rate                         0\n",
       "grade                            0\n",
       "sub_grade                        0\n",
       "emp_length                    1112\n",
       "home_ownership                   0\n",
       "annual_inc                       4\n",
       "verification_status              0\n",
       "issue_d                          0\n",
       "purpose                          0\n",
       "addr_state                       0\n",
       "dti                              0\n",
       "earliest_cr_line                29\n",
       "inq_last_6mths                  29\n",
       "pub_rec                         29\n",
       "revol_util                      90\n",
       "initial_list_status              0\n",
       "out_prncp                        0\n",
       "out_prncp_inv                    0\n",
       "total_pymnt                      0\n",
       "total_pymnt_inv                  0\n",
       "total_rec_prncp                  0\n",
       "total_rec_late_fee               0\n",
       "recoveries                       0\n",
       "collection_recovery_fee          0\n",
       "last_pymnt_d                    83\n",
       "last_pymnt_amnt                  0\n",
       "last_credit_pull_d               4\n",
       "collections_12_mths_ex_med     145\n",
       "policy_code                      0\n",
       "application_type                 0\n",
       "chargeoff_within_12_mths       145\n",
       "pub_rec_bankruptcies          1365\n",
       "hardship_flag                    0\n",
       "debt_settlement_flag             0\n",
       "target                           0\n",
       "credit_policy                    0\n",
       "dtype: int64"
      ]
     },
     "execution_count": 58,
     "metadata": {},
     "output_type": "execute_result"
    }
   ],
   "source": [
    "loan.isnull().sum()"
   ]
  },
  {
   "cell_type": "code",
   "execution_count": 59,
   "metadata": {},
   "outputs": [],
   "source": [
    "#filling the null values"
   ]
  },
  {
   "cell_type": "markdown",
   "metadata": {},
   "source": [
    "columns that have null values are\n",
    "1. emp_length has 1112 null values\n",
    "2. annual_inc has 4\n",
    "3. earliest_cr_line,inq_last_6mths,pub_rec has 29\n",
    "4. revol_util has 90\n",
    "5. last_pymnt_d has 83\n",
    "6. collections_12_within 12 mnths has 145\n",
    "7. chargeoff within 12 mths has 145\n",
    "8. pub_rec_bankruptcies has 1365"
   ]
  },
  {
   "cell_type": "code",
   "execution_count": 60,
   "metadata": {},
   "outputs": [
    {
     "data": {
      "text/html": [
       "<div>\n",
       "<style scoped>\n",
       "    .dataframe tbody tr th:only-of-type {\n",
       "        vertical-align: middle;\n",
       "    }\n",
       "\n",
       "    .dataframe tbody tr th {\n",
       "        vertical-align: top;\n",
       "    }\n",
       "\n",
       "    .dataframe thead th {\n",
       "        text-align: right;\n",
       "    }\n",
       "</style>\n",
       "<table border=\"1\" class=\"dataframe\">\n",
       "  <thead>\n",
       "    <tr style=\"text-align: right;\">\n",
       "      <th></th>\n",
       "      <th>loan_amnt</th>\n",
       "      <th>term</th>\n",
       "      <th>int_rate</th>\n",
       "      <th>grade</th>\n",
       "      <th>sub_grade</th>\n",
       "      <th>emp_length</th>\n",
       "      <th>home_ownership</th>\n",
       "      <th>annual_inc</th>\n",
       "      <th>verification_status</th>\n",
       "      <th>issue_d</th>\n",
       "      <th>...</th>\n",
       "      <th>last_credit_pull_d</th>\n",
       "      <th>collections_12_mths_ex_med</th>\n",
       "      <th>policy_code</th>\n",
       "      <th>application_type</th>\n",
       "      <th>chargeoff_within_12_mths</th>\n",
       "      <th>pub_rec_bankruptcies</th>\n",
       "      <th>hardship_flag</th>\n",
       "      <th>debt_settlement_flag</th>\n",
       "      <th>target</th>\n",
       "      <th>credit_policy</th>\n",
       "    </tr>\n",
       "  </thead>\n",
       "  <tbody>\n",
       "    <tr>\n",
       "      <th>168</th>\n",
       "      <td>2500</td>\n",
       "      <td>36 months</td>\n",
       "      <td>7.51</td>\n",
       "      <td>A</td>\n",
       "      <td>A3</td>\n",
       "      <td>NaN</td>\n",
       "      <td>OWN</td>\n",
       "      <td>12000.0</td>\n",
       "      <td>Source Verified</td>\n",
       "      <td>Dec-11</td>\n",
       "      <td>...</td>\n",
       "      <td>May-19</td>\n",
       "      <td>0.0</td>\n",
       "      <td>1</td>\n",
       "      <td>Individual</td>\n",
       "      <td>0.0</td>\n",
       "      <td>0.0</td>\n",
       "      <td>N</td>\n",
       "      <td>N</td>\n",
       "      <td>0</td>\n",
       "      <td>1</td>\n",
       "    </tr>\n",
       "    <tr>\n",
       "      <th>323</th>\n",
       "      <td>18000</td>\n",
       "      <td>60 months</td>\n",
       "      <td>17.58</td>\n",
       "      <td>D</td>\n",
       "      <td>D4</td>\n",
       "      <td>NaN</td>\n",
       "      <td>MORTGAGE</td>\n",
       "      <td>60000.0</td>\n",
       "      <td>Verified</td>\n",
       "      <td>Dec-11</td>\n",
       "      <td>...</td>\n",
       "      <td>Jul-16</td>\n",
       "      <td>0.0</td>\n",
       "      <td>1</td>\n",
       "      <td>Individual</td>\n",
       "      <td>0.0</td>\n",
       "      <td>0.0</td>\n",
       "      <td>N</td>\n",
       "      <td>N</td>\n",
       "      <td>1</td>\n",
       "      <td>1</td>\n",
       "    </tr>\n",
       "    <tr>\n",
       "      <th>394</th>\n",
       "      <td>4000</td>\n",
       "      <td>36 months</td>\n",
       "      <td>11.71</td>\n",
       "      <td>B</td>\n",
       "      <td>B3</td>\n",
       "      <td>NaN</td>\n",
       "      <td>RENT</td>\n",
       "      <td>24000.0</td>\n",
       "      <td>Source Verified</td>\n",
       "      <td>Dec-11</td>\n",
       "      <td>...</td>\n",
       "      <td>May-19</td>\n",
       "      <td>0.0</td>\n",
       "      <td>1</td>\n",
       "      <td>Individual</td>\n",
       "      <td>0.0</td>\n",
       "      <td>0.0</td>\n",
       "      <td>N</td>\n",
       "      <td>N</td>\n",
       "      <td>1</td>\n",
       "      <td>1</td>\n",
       "    </tr>\n",
       "    <tr>\n",
       "      <th>422</th>\n",
       "      <td>1000</td>\n",
       "      <td>36 months</td>\n",
       "      <td>14.65</td>\n",
       "      <td>C</td>\n",
       "      <td>C3</td>\n",
       "      <td>NaN</td>\n",
       "      <td>RENT</td>\n",
       "      <td>18408.0</td>\n",
       "      <td>Not Verified</td>\n",
       "      <td>Dec-11</td>\n",
       "      <td>...</td>\n",
       "      <td>Jun-12</td>\n",
       "      <td>0.0</td>\n",
       "      <td>1</td>\n",
       "      <td>Individual</td>\n",
       "      <td>0.0</td>\n",
       "      <td>1.0</td>\n",
       "      <td>N</td>\n",
       "      <td>N</td>\n",
       "      <td>0</td>\n",
       "      <td>1</td>\n",
       "    </tr>\n",
       "    <tr>\n",
       "      <th>439</th>\n",
       "      <td>8250</td>\n",
       "      <td>36 months</td>\n",
       "      <td>7.51</td>\n",
       "      <td>A</td>\n",
       "      <td>A3</td>\n",
       "      <td>NaN</td>\n",
       "      <td>MORTGAGE</td>\n",
       "      <td>31500.0</td>\n",
       "      <td>Verified</td>\n",
       "      <td>Dec-11</td>\n",
       "      <td>...</td>\n",
       "      <td>Mar-19</td>\n",
       "      <td>0.0</td>\n",
       "      <td>1</td>\n",
       "      <td>Individual</td>\n",
       "      <td>0.0</td>\n",
       "      <td>0.0</td>\n",
       "      <td>N</td>\n",
       "      <td>N</td>\n",
       "      <td>1</td>\n",
       "      <td>1</td>\n",
       "    </tr>\n",
       "    <tr>\n",
       "      <th>534</th>\n",
       "      <td>1700</td>\n",
       "      <td>36 months</td>\n",
       "      <td>7.90</td>\n",
       "      <td>A</td>\n",
       "      <td>A4</td>\n",
       "      <td>NaN</td>\n",
       "      <td>MORTGAGE</td>\n",
       "      <td>37800.0</td>\n",
       "      <td>Not Verified</td>\n",
       "      <td>Dec-11</td>\n",
       "      <td>...</td>\n",
       "      <td>Oct-16</td>\n",
       "      <td>0.0</td>\n",
       "      <td>1</td>\n",
       "      <td>Individual</td>\n",
       "      <td>0.0</td>\n",
       "      <td>0.0</td>\n",
       "      <td>N</td>\n",
       "      <td>N</td>\n",
       "      <td>0</td>\n",
       "      <td>1</td>\n",
       "    </tr>\n",
       "    <tr>\n",
       "      <th>555</th>\n",
       "      <td>5000</td>\n",
       "      <td>36 months</td>\n",
       "      <td>8.90</td>\n",
       "      <td>A</td>\n",
       "      <td>A5</td>\n",
       "      <td>NaN</td>\n",
       "      <td>MORTGAGE</td>\n",
       "      <td>70000.0</td>\n",
       "      <td>Source Verified</td>\n",
       "      <td>Dec-11</td>\n",
       "      <td>...</td>\n",
       "      <td>Oct-14</td>\n",
       "      <td>0.0</td>\n",
       "      <td>1</td>\n",
       "      <td>Individual</td>\n",
       "      <td>0.0</td>\n",
       "      <td>0.0</td>\n",
       "      <td>N</td>\n",
       "      <td>N</td>\n",
       "      <td>1</td>\n",
       "      <td>1</td>\n",
       "    </tr>\n",
       "    <tr>\n",
       "      <th>562</th>\n",
       "      <td>3000</td>\n",
       "      <td>36 months</td>\n",
       "      <td>9.91</td>\n",
       "      <td>B</td>\n",
       "      <td>B1</td>\n",
       "      <td>NaN</td>\n",
       "      <td>MORTGAGE</td>\n",
       "      <td>42000.0</td>\n",
       "      <td>Not Verified</td>\n",
       "      <td>Dec-11</td>\n",
       "      <td>...</td>\n",
       "      <td>Dec-14</td>\n",
       "      <td>0.0</td>\n",
       "      <td>1</td>\n",
       "      <td>Individual</td>\n",
       "      <td>0.0</td>\n",
       "      <td>0.0</td>\n",
       "      <td>N</td>\n",
       "      <td>N</td>\n",
       "      <td>1</td>\n",
       "      <td>1</td>\n",
       "    </tr>\n",
       "    <tr>\n",
       "      <th>569</th>\n",
       "      <td>8575</td>\n",
       "      <td>36 months</td>\n",
       "      <td>17.58</td>\n",
       "      <td>D</td>\n",
       "      <td>D4</td>\n",
       "      <td>NaN</td>\n",
       "      <td>MORTGAGE</td>\n",
       "      <td>32000.0</td>\n",
       "      <td>Verified</td>\n",
       "      <td>Dec-11</td>\n",
       "      <td>...</td>\n",
       "      <td>Oct-16</td>\n",
       "      <td>0.0</td>\n",
       "      <td>1</td>\n",
       "      <td>Individual</td>\n",
       "      <td>0.0</td>\n",
       "      <td>0.0</td>\n",
       "      <td>N</td>\n",
       "      <td>N</td>\n",
       "      <td>0</td>\n",
       "      <td>1</td>\n",
       "    </tr>\n",
       "    <tr>\n",
       "      <th>680</th>\n",
       "      <td>5600</td>\n",
       "      <td>36 months</td>\n",
       "      <td>6.03</td>\n",
       "      <td>A</td>\n",
       "      <td>A1</td>\n",
       "      <td>NaN</td>\n",
       "      <td>OWN</td>\n",
       "      <td>41100.0</td>\n",
       "      <td>Not Verified</td>\n",
       "      <td>Dec-11</td>\n",
       "      <td>...</td>\n",
       "      <td>Dec-12</td>\n",
       "      <td>0.0</td>\n",
       "      <td>1</td>\n",
       "      <td>Individual</td>\n",
       "      <td>0.0</td>\n",
       "      <td>0.0</td>\n",
       "      <td>N</td>\n",
       "      <td>N</td>\n",
       "      <td>1</td>\n",
       "      <td>1</td>\n",
       "    </tr>\n",
       "    <tr>\n",
       "      <th>713</th>\n",
       "      <td>6500</td>\n",
       "      <td>60 months</td>\n",
       "      <td>14.27</td>\n",
       "      <td>C</td>\n",
       "      <td>C2</td>\n",
       "      <td>NaN</td>\n",
       "      <td>MORTGAGE</td>\n",
       "      <td>46212.0</td>\n",
       "      <td>Verified</td>\n",
       "      <td>Dec-11</td>\n",
       "      <td>...</td>\n",
       "      <td>Jan-17</td>\n",
       "      <td>0.0</td>\n",
       "      <td>1</td>\n",
       "      <td>Individual</td>\n",
       "      <td>0.0</td>\n",
       "      <td>0.0</td>\n",
       "      <td>N</td>\n",
       "      <td>N</td>\n",
       "      <td>1</td>\n",
       "      <td>1</td>\n",
       "    </tr>\n",
       "    <tr>\n",
       "      <th>752</th>\n",
       "      <td>14125</td>\n",
       "      <td>36 months</td>\n",
       "      <td>12.42</td>\n",
       "      <td>B</td>\n",
       "      <td>B4</td>\n",
       "      <td>NaN</td>\n",
       "      <td>MORTGAGE</td>\n",
       "      <td>45696.0</td>\n",
       "      <td>Verified</td>\n",
       "      <td>Dec-11</td>\n",
       "      <td>...</td>\n",
       "      <td>May-19</td>\n",
       "      <td>0.0</td>\n",
       "      <td>1</td>\n",
       "      <td>Individual</td>\n",
       "      <td>0.0</td>\n",
       "      <td>0.0</td>\n",
       "      <td>N</td>\n",
       "      <td>N</td>\n",
       "      <td>0</td>\n",
       "      <td>1</td>\n",
       "    </tr>\n",
       "    <tr>\n",
       "      <th>863</th>\n",
       "      <td>7000</td>\n",
       "      <td>60 months</td>\n",
       "      <td>8.90</td>\n",
       "      <td>A</td>\n",
       "      <td>A5</td>\n",
       "      <td>NaN</td>\n",
       "      <td>MORTGAGE</td>\n",
       "      <td>25000.0</td>\n",
       "      <td>Not Verified</td>\n",
       "      <td>Dec-11</td>\n",
       "      <td>...</td>\n",
       "      <td>Mar-19</td>\n",
       "      <td>0.0</td>\n",
       "      <td>1</td>\n",
       "      <td>Individual</td>\n",
       "      <td>0.0</td>\n",
       "      <td>0.0</td>\n",
       "      <td>N</td>\n",
       "      <td>N</td>\n",
       "      <td>1</td>\n",
       "      <td>1</td>\n",
       "    </tr>\n",
       "    <tr>\n",
       "      <th>902</th>\n",
       "      <td>2250</td>\n",
       "      <td>36 months</td>\n",
       "      <td>15.27</td>\n",
       "      <td>C</td>\n",
       "      <td>C4</td>\n",
       "      <td>NaN</td>\n",
       "      <td>MORTGAGE</td>\n",
       "      <td>17352.0</td>\n",
       "      <td>Verified</td>\n",
       "      <td>Dec-11</td>\n",
       "      <td>...</td>\n",
       "      <td>Dec-18</td>\n",
       "      <td>0.0</td>\n",
       "      <td>1</td>\n",
       "      <td>Individual</td>\n",
       "      <td>0.0</td>\n",
       "      <td>0.0</td>\n",
       "      <td>N</td>\n",
       "      <td>N</td>\n",
       "      <td>1</td>\n",
       "      <td>1</td>\n",
       "    </tr>\n",
       "    <tr>\n",
       "      <th>933</th>\n",
       "      <td>6000</td>\n",
       "      <td>60 months</td>\n",
       "      <td>7.90</td>\n",
       "      <td>A</td>\n",
       "      <td>A4</td>\n",
       "      <td>NaN</td>\n",
       "      <td>OWN</td>\n",
       "      <td>34848.0</td>\n",
       "      <td>Verified</td>\n",
       "      <td>Dec-11</td>\n",
       "      <td>...</td>\n",
       "      <td>May-19</td>\n",
       "      <td>0.0</td>\n",
       "      <td>1</td>\n",
       "      <td>Individual</td>\n",
       "      <td>0.0</td>\n",
       "      <td>0.0</td>\n",
       "      <td>N</td>\n",
       "      <td>N</td>\n",
       "      <td>1</td>\n",
       "      <td>1</td>\n",
       "    </tr>\n",
       "    <tr>\n",
       "      <th>975</th>\n",
       "      <td>7000</td>\n",
       "      <td>36 months</td>\n",
       "      <td>6.62</td>\n",
       "      <td>A</td>\n",
       "      <td>A2</td>\n",
       "      <td>NaN</td>\n",
       "      <td>MORTGAGE</td>\n",
       "      <td>24000.0</td>\n",
       "      <td>Verified</td>\n",
       "      <td>Dec-11</td>\n",
       "      <td>...</td>\n",
       "      <td>May-19</td>\n",
       "      <td>0.0</td>\n",
       "      <td>1</td>\n",
       "      <td>Individual</td>\n",
       "      <td>0.0</td>\n",
       "      <td>0.0</td>\n",
       "      <td>N</td>\n",
       "      <td>N</td>\n",
       "      <td>1</td>\n",
       "      <td>1</td>\n",
       "    </tr>\n",
       "    <tr>\n",
       "      <th>985</th>\n",
       "      <td>15000</td>\n",
       "      <td>36 months</td>\n",
       "      <td>12.42</td>\n",
       "      <td>B</td>\n",
       "      <td>B4</td>\n",
       "      <td>NaN</td>\n",
       "      <td>RENT</td>\n",
       "      <td>60000.0</td>\n",
       "      <td>Verified</td>\n",
       "      <td>Dec-11</td>\n",
       "      <td>...</td>\n",
       "      <td>Dec-14</td>\n",
       "      <td>0.0</td>\n",
       "      <td>1</td>\n",
       "      <td>Individual</td>\n",
       "      <td>0.0</td>\n",
       "      <td>0.0</td>\n",
       "      <td>N</td>\n",
       "      <td>N</td>\n",
       "      <td>1</td>\n",
       "      <td>1</td>\n",
       "    </tr>\n",
       "    <tr>\n",
       "      <th>1018</th>\n",
       "      <td>12000</td>\n",
       "      <td>60 months</td>\n",
       "      <td>9.91</td>\n",
       "      <td>B</td>\n",
       "      <td>B1</td>\n",
       "      <td>NaN</td>\n",
       "      <td>RENT</td>\n",
       "      <td>35000.0</td>\n",
       "      <td>Not Verified</td>\n",
       "      <td>Dec-11</td>\n",
       "      <td>...</td>\n",
       "      <td>Jan-17</td>\n",
       "      <td>0.0</td>\n",
       "      <td>1</td>\n",
       "      <td>Individual</td>\n",
       "      <td>0.0</td>\n",
       "      <td>0.0</td>\n",
       "      <td>N</td>\n",
       "      <td>N</td>\n",
       "      <td>1</td>\n",
       "      <td>1</td>\n",
       "    </tr>\n",
       "    <tr>\n",
       "      <th>1090</th>\n",
       "      <td>12000</td>\n",
       "      <td>36 months</td>\n",
       "      <td>6.03</td>\n",
       "      <td>A</td>\n",
       "      <td>A1</td>\n",
       "      <td>NaN</td>\n",
       "      <td>OWN</td>\n",
       "      <td>40000.0</td>\n",
       "      <td>Source Verified</td>\n",
       "      <td>Dec-11</td>\n",
       "      <td>...</td>\n",
       "      <td>Jan-15</td>\n",
       "      <td>0.0</td>\n",
       "      <td>1</td>\n",
       "      <td>Individual</td>\n",
       "      <td>0.0</td>\n",
       "      <td>0.0</td>\n",
       "      <td>N</td>\n",
       "      <td>N</td>\n",
       "      <td>1</td>\n",
       "      <td>1</td>\n",
       "    </tr>\n",
       "    <tr>\n",
       "      <th>1093</th>\n",
       "      <td>15000</td>\n",
       "      <td>36 months</td>\n",
       "      <td>17.27</td>\n",
       "      <td>D</td>\n",
       "      <td>D3</td>\n",
       "      <td>NaN</td>\n",
       "      <td>OWN</td>\n",
       "      <td>57000.0</td>\n",
       "      <td>Source Verified</td>\n",
       "      <td>Dec-11</td>\n",
       "      <td>...</td>\n",
       "      <td>May-17</td>\n",
       "      <td>0.0</td>\n",
       "      <td>1</td>\n",
       "      <td>Individual</td>\n",
       "      <td>0.0</td>\n",
       "      <td>0.0</td>\n",
       "      <td>N</td>\n",
       "      <td>N</td>\n",
       "      <td>1</td>\n",
       "      <td>1</td>\n",
       "    </tr>\n",
       "    <tr>\n",
       "      <th>1123</th>\n",
       "      <td>8500</td>\n",
       "      <td>36 months</td>\n",
       "      <td>15.96</td>\n",
       "      <td>C</td>\n",
       "      <td>C5</td>\n",
       "      <td>NaN</td>\n",
       "      <td>RENT</td>\n",
       "      <td>27050.0</td>\n",
       "      <td>Source Verified</td>\n",
       "      <td>Dec-11</td>\n",
       "      <td>...</td>\n",
       "      <td>Oct-16</td>\n",
       "      <td>0.0</td>\n",
       "      <td>1</td>\n",
       "      <td>Individual</td>\n",
       "      <td>0.0</td>\n",
       "      <td>0.0</td>\n",
       "      <td>N</td>\n",
       "      <td>N</td>\n",
       "      <td>0</td>\n",
       "      <td>1</td>\n",
       "    </tr>\n",
       "    <tr>\n",
       "      <th>1140</th>\n",
       "      <td>5000</td>\n",
       "      <td>36 months</td>\n",
       "      <td>7.51</td>\n",
       "      <td>A</td>\n",
       "      <td>A3</td>\n",
       "      <td>NaN</td>\n",
       "      <td>RENT</td>\n",
       "      <td>84855.0</td>\n",
       "      <td>Verified</td>\n",
       "      <td>Dec-11</td>\n",
       "      <td>...</td>\n",
       "      <td>Oct-16</td>\n",
       "      <td>0.0</td>\n",
       "      <td>1</td>\n",
       "      <td>Individual</td>\n",
       "      <td>0.0</td>\n",
       "      <td>0.0</td>\n",
       "      <td>N</td>\n",
       "      <td>N</td>\n",
       "      <td>0</td>\n",
       "      <td>1</td>\n",
       "    </tr>\n",
       "    <tr>\n",
       "      <th>1148</th>\n",
       "      <td>20000</td>\n",
       "      <td>60 months</td>\n",
       "      <td>13.49</td>\n",
       "      <td>C</td>\n",
       "      <td>C1</td>\n",
       "      <td>NaN</td>\n",
       "      <td>MORTGAGE</td>\n",
       "      <td>100000.0</td>\n",
       "      <td>Source Verified</td>\n",
       "      <td>Dec-11</td>\n",
       "      <td>...</td>\n",
       "      <td>Nov-16</td>\n",
       "      <td>0.0</td>\n",
       "      <td>1</td>\n",
       "      <td>Individual</td>\n",
       "      <td>0.0</td>\n",
       "      <td>0.0</td>\n",
       "      <td>N</td>\n",
       "      <td>N</td>\n",
       "      <td>0</td>\n",
       "      <td>1</td>\n",
       "    </tr>\n",
       "    <tr>\n",
       "      <th>1149</th>\n",
       "      <td>4000</td>\n",
       "      <td>36 months</td>\n",
       "      <td>15.27</td>\n",
       "      <td>C</td>\n",
       "      <td>C4</td>\n",
       "      <td>NaN</td>\n",
       "      <td>OWN</td>\n",
       "      <td>25000.0</td>\n",
       "      <td>Not Verified</td>\n",
       "      <td>Dec-11</td>\n",
       "      <td>...</td>\n",
       "      <td>Oct-16</td>\n",
       "      <td>0.0</td>\n",
       "      <td>1</td>\n",
       "      <td>Individual</td>\n",
       "      <td>0.0</td>\n",
       "      <td>0.0</td>\n",
       "      <td>N</td>\n",
       "      <td>N</td>\n",
       "      <td>0</td>\n",
       "      <td>1</td>\n",
       "    </tr>\n",
       "    <tr>\n",
       "      <th>1160</th>\n",
       "      <td>5000</td>\n",
       "      <td>36 months</td>\n",
       "      <td>14.65</td>\n",
       "      <td>C</td>\n",
       "      <td>C3</td>\n",
       "      <td>NaN</td>\n",
       "      <td>MORTGAGE</td>\n",
       "      <td>48000.0</td>\n",
       "      <td>Not Verified</td>\n",
       "      <td>Dec-11</td>\n",
       "      <td>...</td>\n",
       "      <td>Feb-15</td>\n",
       "      <td>0.0</td>\n",
       "      <td>1</td>\n",
       "      <td>Individual</td>\n",
       "      <td>0.0</td>\n",
       "      <td>0.0</td>\n",
       "      <td>N</td>\n",
       "      <td>N</td>\n",
       "      <td>1</td>\n",
       "      <td>1</td>\n",
       "    </tr>\n",
       "    <tr>\n",
       "      <th>1176</th>\n",
       "      <td>20400</td>\n",
       "      <td>60 months</td>\n",
       "      <td>11.71</td>\n",
       "      <td>B</td>\n",
       "      <td>B3</td>\n",
       "      <td>NaN</td>\n",
       "      <td>RENT</td>\n",
       "      <td>40800.0</td>\n",
       "      <td>Verified</td>\n",
       "      <td>Dec-11</td>\n",
       "      <td>...</td>\n",
       "      <td>Feb-17</td>\n",
       "      <td>0.0</td>\n",
       "      <td>1</td>\n",
       "      <td>Individual</td>\n",
       "      <td>0.0</td>\n",
       "      <td>0.0</td>\n",
       "      <td>N</td>\n",
       "      <td>N</td>\n",
       "      <td>1</td>\n",
       "      <td>1</td>\n",
       "    </tr>\n",
       "    <tr>\n",
       "      <th>1228</th>\n",
       "      <td>5000</td>\n",
       "      <td>36 months</td>\n",
       "      <td>7.90</td>\n",
       "      <td>A</td>\n",
       "      <td>A4</td>\n",
       "      <td>NaN</td>\n",
       "      <td>RENT</td>\n",
       "      <td>30000.0</td>\n",
       "      <td>Not Verified</td>\n",
       "      <td>Dec-11</td>\n",
       "      <td>...</td>\n",
       "      <td>Mar-16</td>\n",
       "      <td>0.0</td>\n",
       "      <td>1</td>\n",
       "      <td>Individual</td>\n",
       "      <td>0.0</td>\n",
       "      <td>0.0</td>\n",
       "      <td>N</td>\n",
       "      <td>N</td>\n",
       "      <td>1</td>\n",
       "      <td>1</td>\n",
       "    </tr>\n",
       "    <tr>\n",
       "      <th>1259</th>\n",
       "      <td>1400</td>\n",
       "      <td>36 months</td>\n",
       "      <td>8.90</td>\n",
       "      <td>A</td>\n",
       "      <td>A5</td>\n",
       "      <td>NaN</td>\n",
       "      <td>MORTGAGE</td>\n",
       "      <td>30108.0</td>\n",
       "      <td>Not Verified</td>\n",
       "      <td>Dec-11</td>\n",
       "      <td>...</td>\n",
       "      <td>Oct-16</td>\n",
       "      <td>0.0</td>\n",
       "      <td>1</td>\n",
       "      <td>Individual</td>\n",
       "      <td>0.0</td>\n",
       "      <td>0.0</td>\n",
       "      <td>N</td>\n",
       "      <td>N</td>\n",
       "      <td>0</td>\n",
       "      <td>1</td>\n",
       "    </tr>\n",
       "    <tr>\n",
       "      <th>1282</th>\n",
       "      <td>9250</td>\n",
       "      <td>36 months</td>\n",
       "      <td>10.65</td>\n",
       "      <td>B</td>\n",
       "      <td>B2</td>\n",
       "      <td>NaN</td>\n",
       "      <td>OWN</td>\n",
       "      <td>20000.0</td>\n",
       "      <td>Verified</td>\n",
       "      <td>Dec-11</td>\n",
       "      <td>...</td>\n",
       "      <td>Mar-13</td>\n",
       "      <td>0.0</td>\n",
       "      <td>1</td>\n",
       "      <td>Individual</td>\n",
       "      <td>0.0</td>\n",
       "      <td>1.0</td>\n",
       "      <td>N</td>\n",
       "      <td>N</td>\n",
       "      <td>1</td>\n",
       "      <td>1</td>\n",
       "    </tr>\n",
       "    <tr>\n",
       "      <th>1314</th>\n",
       "      <td>7200</td>\n",
       "      <td>36 months</td>\n",
       "      <td>12.69</td>\n",
       "      <td>B</td>\n",
       "      <td>B5</td>\n",
       "      <td>NaN</td>\n",
       "      <td>MORTGAGE</td>\n",
       "      <td>45000.0</td>\n",
       "      <td>Verified</td>\n",
       "      <td>Dec-11</td>\n",
       "      <td>...</td>\n",
       "      <td>Apr-17</td>\n",
       "      <td>0.0</td>\n",
       "      <td>1</td>\n",
       "      <td>Individual</td>\n",
       "      <td>0.0</td>\n",
       "      <td>0.0</td>\n",
       "      <td>N</td>\n",
       "      <td>N</td>\n",
       "      <td>1</td>\n",
       "      <td>1</td>\n",
       "    </tr>\n",
       "    <tr>\n",
       "      <th>...</th>\n",
       "      <td>...</td>\n",
       "      <td>...</td>\n",
       "      <td>...</td>\n",
       "      <td>...</td>\n",
       "      <td>...</td>\n",
       "      <td>...</td>\n",
       "      <td>...</td>\n",
       "      <td>...</td>\n",
       "      <td>...</td>\n",
       "      <td>...</td>\n",
       "      <td>...</td>\n",
       "      <td>...</td>\n",
       "      <td>...</td>\n",
       "      <td>...</td>\n",
       "      <td>...</td>\n",
       "      <td>...</td>\n",
       "      <td>...</td>\n",
       "      <td>...</td>\n",
       "      <td>...</td>\n",
       "      <td>...</td>\n",
       "      <td>...</td>\n",
       "    </tr>\n",
       "    <tr>\n",
       "      <th>39907</th>\n",
       "      <td>2400</td>\n",
       "      <td>60 months</td>\n",
       "      <td>15.57</td>\n",
       "      <td>D</td>\n",
       "      <td>D5</td>\n",
       "      <td>NaN</td>\n",
       "      <td>MORTGAGE</td>\n",
       "      <td>44000.0</td>\n",
       "      <td>Verified</td>\n",
       "      <td>Nov-10</td>\n",
       "      <td>...</td>\n",
       "      <td>Oct-16</td>\n",
       "      <td>0.0</td>\n",
       "      <td>1</td>\n",
       "      <td>Individual</td>\n",
       "      <td>0.0</td>\n",
       "      <td>0.0</td>\n",
       "      <td>N</td>\n",
       "      <td>N</td>\n",
       "      <td>0</td>\n",
       "      <td>0</td>\n",
       "    </tr>\n",
       "    <tr>\n",
       "      <th>39948</th>\n",
       "      <td>4200</td>\n",
       "      <td>36 months</td>\n",
       "      <td>9.62</td>\n",
       "      <td>B</td>\n",
       "      <td>B3</td>\n",
       "      <td>NaN</td>\n",
       "      <td>RENT</td>\n",
       "      <td>28800.0</td>\n",
       "      <td>Not Verified</td>\n",
       "      <td>Nov-10</td>\n",
       "      <td>...</td>\n",
       "      <td>Apr-19</td>\n",
       "      <td>0.0</td>\n",
       "      <td>1</td>\n",
       "      <td>Individual</td>\n",
       "      <td>0.0</td>\n",
       "      <td>0.0</td>\n",
       "      <td>N</td>\n",
       "      <td>N</td>\n",
       "      <td>1</td>\n",
       "      <td>0</td>\n",
       "    </tr>\n",
       "    <tr>\n",
       "      <th>39958</th>\n",
       "      <td>25000</td>\n",
       "      <td>36 months</td>\n",
       "      <td>15.20</td>\n",
       "      <td>D</td>\n",
       "      <td>D4</td>\n",
       "      <td>NaN</td>\n",
       "      <td>RENT</td>\n",
       "      <td>70000.0</td>\n",
       "      <td>Verified</td>\n",
       "      <td>Nov-10</td>\n",
       "      <td>...</td>\n",
       "      <td>May-19</td>\n",
       "      <td>0.0</td>\n",
       "      <td>1</td>\n",
       "      <td>Individual</td>\n",
       "      <td>0.0</td>\n",
       "      <td>0.0</td>\n",
       "      <td>N</td>\n",
       "      <td>N</td>\n",
       "      <td>1</td>\n",
       "      <td>0</td>\n",
       "    </tr>\n",
       "    <tr>\n",
       "      <th>39962</th>\n",
       "      <td>12250</td>\n",
       "      <td>36 months</td>\n",
       "      <td>17.80</td>\n",
       "      <td>F</td>\n",
       "      <td>F1</td>\n",
       "      <td>NaN</td>\n",
       "      <td>MORTGAGE</td>\n",
       "      <td>44400.0</td>\n",
       "      <td>Verified</td>\n",
       "      <td>Oct-10</td>\n",
       "      <td>...</td>\n",
       "      <td>Nov-13</td>\n",
       "      <td>0.0</td>\n",
       "      <td>1</td>\n",
       "      <td>Individual</td>\n",
       "      <td>0.0</td>\n",
       "      <td>0.0</td>\n",
       "      <td>N</td>\n",
       "      <td>N</td>\n",
       "      <td>1</td>\n",
       "      <td>0</td>\n",
       "    </tr>\n",
       "    <tr>\n",
       "      <th>39983</th>\n",
       "      <td>1500</td>\n",
       "      <td>36 months</td>\n",
       "      <td>13.72</td>\n",
       "      <td>C</td>\n",
       "      <td>C5</td>\n",
       "      <td>NaN</td>\n",
       "      <td>RENT</td>\n",
       "      <td>9600.0</td>\n",
       "      <td>Not Verified</td>\n",
       "      <td>Oct-10</td>\n",
       "      <td>...</td>\n",
       "      <td>May-19</td>\n",
       "      <td>0.0</td>\n",
       "      <td>1</td>\n",
       "      <td>Individual</td>\n",
       "      <td>0.0</td>\n",
       "      <td>0.0</td>\n",
       "      <td>N</td>\n",
       "      <td>N</td>\n",
       "      <td>1</td>\n",
       "      <td>0</td>\n",
       "    </tr>\n",
       "    <tr>\n",
       "      <th>40016</th>\n",
       "      <td>3600</td>\n",
       "      <td>36 months</td>\n",
       "      <td>11.86</td>\n",
       "      <td>B</td>\n",
       "      <td>B5</td>\n",
       "      <td>NaN</td>\n",
       "      <td>RENT</td>\n",
       "      <td>25980.0</td>\n",
       "      <td>Not Verified</td>\n",
       "      <td>Oct-10</td>\n",
       "      <td>...</td>\n",
       "      <td>May-19</td>\n",
       "      <td>0.0</td>\n",
       "      <td>1</td>\n",
       "      <td>Individual</td>\n",
       "      <td>0.0</td>\n",
       "      <td>0.0</td>\n",
       "      <td>N</td>\n",
       "      <td>N</td>\n",
       "      <td>0</td>\n",
       "      <td>0</td>\n",
       "    </tr>\n",
       "    <tr>\n",
       "      <th>40029</th>\n",
       "      <td>8000</td>\n",
       "      <td>60 months</td>\n",
       "      <td>19.79</td>\n",
       "      <td>F</td>\n",
       "      <td>F5</td>\n",
       "      <td>NaN</td>\n",
       "      <td>MORTGAGE</td>\n",
       "      <td>34992.0</td>\n",
       "      <td>Verified</td>\n",
       "      <td>Oct-10</td>\n",
       "      <td>...</td>\n",
       "      <td>Oct-16</td>\n",
       "      <td>0.0</td>\n",
       "      <td>1</td>\n",
       "      <td>Individual</td>\n",
       "      <td>0.0</td>\n",
       "      <td>1.0</td>\n",
       "      <td>N</td>\n",
       "      <td>N</td>\n",
       "      <td>0</td>\n",
       "      <td>0</td>\n",
       "    </tr>\n",
       "    <tr>\n",
       "      <th>40055</th>\n",
       "      <td>7000</td>\n",
       "      <td>36 months</td>\n",
       "      <td>15.58</td>\n",
       "      <td>D</td>\n",
       "      <td>D3</td>\n",
       "      <td>NaN</td>\n",
       "      <td>MORTGAGE</td>\n",
       "      <td>55200.0</td>\n",
       "      <td>Verified</td>\n",
       "      <td>Oct-10</td>\n",
       "      <td>...</td>\n",
       "      <td>Sep-17</td>\n",
       "      <td>0.0</td>\n",
       "      <td>1</td>\n",
       "      <td>Individual</td>\n",
       "      <td>0.0</td>\n",
       "      <td>0.0</td>\n",
       "      <td>N</td>\n",
       "      <td>N</td>\n",
       "      <td>0</td>\n",
       "      <td>0</td>\n",
       "    </tr>\n",
       "    <tr>\n",
       "      <th>40069</th>\n",
       "      <td>12000</td>\n",
       "      <td>60 months</td>\n",
       "      <td>15.95</td>\n",
       "      <td>D</td>\n",
       "      <td>D4</td>\n",
       "      <td>NaN</td>\n",
       "      <td>MORTGAGE</td>\n",
       "      <td>49000.0</td>\n",
       "      <td>Not Verified</td>\n",
       "      <td>Sep-10</td>\n",
       "      <td>...</td>\n",
       "      <td>May-19</td>\n",
       "      <td>0.0</td>\n",
       "      <td>1</td>\n",
       "      <td>Individual</td>\n",
       "      <td>0.0</td>\n",
       "      <td>0.0</td>\n",
       "      <td>N</td>\n",
       "      <td>N</td>\n",
       "      <td>0</td>\n",
       "      <td>0</td>\n",
       "    </tr>\n",
       "    <tr>\n",
       "      <th>40071</th>\n",
       "      <td>6000</td>\n",
       "      <td>60 months</td>\n",
       "      <td>11.12</td>\n",
       "      <td>B</td>\n",
       "      <td>B3</td>\n",
       "      <td>NaN</td>\n",
       "      <td>OWN</td>\n",
       "      <td>65000.0</td>\n",
       "      <td>Not Verified</td>\n",
       "      <td>Sep-10</td>\n",
       "      <td>...</td>\n",
       "      <td>May-14</td>\n",
       "      <td>0.0</td>\n",
       "      <td>1</td>\n",
       "      <td>Individual</td>\n",
       "      <td>0.0</td>\n",
       "      <td>0.0</td>\n",
       "      <td>N</td>\n",
       "      <td>N</td>\n",
       "      <td>1</td>\n",
       "      <td>0</td>\n",
       "    </tr>\n",
       "    <tr>\n",
       "      <th>40075</th>\n",
       "      <td>1000</td>\n",
       "      <td>36 months</td>\n",
       "      <td>10.38</td>\n",
       "      <td>B</td>\n",
       "      <td>B1</td>\n",
       "      <td>NaN</td>\n",
       "      <td>RENT</td>\n",
       "      <td>10200.0</td>\n",
       "      <td>Verified</td>\n",
       "      <td>Sep-10</td>\n",
       "      <td>...</td>\n",
       "      <td>May-19</td>\n",
       "      <td>0.0</td>\n",
       "      <td>1</td>\n",
       "      <td>Individual</td>\n",
       "      <td>0.0</td>\n",
       "      <td>0.0</td>\n",
       "      <td>N</td>\n",
       "      <td>N</td>\n",
       "      <td>0</td>\n",
       "      <td>0</td>\n",
       "    </tr>\n",
       "    <tr>\n",
       "      <th>40080</th>\n",
       "      <td>2000</td>\n",
       "      <td>36 months</td>\n",
       "      <td>14.72</td>\n",
       "      <td>C</td>\n",
       "      <td>C5</td>\n",
       "      <td>NaN</td>\n",
       "      <td>MORTGAGE</td>\n",
       "      <td>59000.0</td>\n",
       "      <td>Not Verified</td>\n",
       "      <td>Sep-10</td>\n",
       "      <td>...</td>\n",
       "      <td>May-11</td>\n",
       "      <td>0.0</td>\n",
       "      <td>1</td>\n",
       "      <td>Individual</td>\n",
       "      <td>0.0</td>\n",
       "      <td>0.0</td>\n",
       "      <td>N</td>\n",
       "      <td>N</td>\n",
       "      <td>0</td>\n",
       "      <td>0</td>\n",
       "    </tr>\n",
       "    <tr>\n",
       "      <th>40106</th>\n",
       "      <td>4000</td>\n",
       "      <td>60 months</td>\n",
       "      <td>17.19</td>\n",
       "      <td>E</td>\n",
       "      <td>E3</td>\n",
       "      <td>NaN</td>\n",
       "      <td>MORTGAGE</td>\n",
       "      <td>27600.0</td>\n",
       "      <td>Verified</td>\n",
       "      <td>Sep-10</td>\n",
       "      <td>...</td>\n",
       "      <td>Oct-16</td>\n",
       "      <td>0.0</td>\n",
       "      <td>1</td>\n",
       "      <td>Individual</td>\n",
       "      <td>0.0</td>\n",
       "      <td>0.0</td>\n",
       "      <td>N</td>\n",
       "      <td>N</td>\n",
       "      <td>0</td>\n",
       "      <td>0</td>\n",
       "    </tr>\n",
       "    <tr>\n",
       "      <th>40136</th>\n",
       "      <td>2000</td>\n",
       "      <td>36 months</td>\n",
       "      <td>10.38</td>\n",
       "      <td>B</td>\n",
       "      <td>B1</td>\n",
       "      <td>NaN</td>\n",
       "      <td>RENT</td>\n",
       "      <td>68000.0</td>\n",
       "      <td>Not Verified</td>\n",
       "      <td>Sep-10</td>\n",
       "      <td>...</td>\n",
       "      <td>May-19</td>\n",
       "      <td>0.0</td>\n",
       "      <td>1</td>\n",
       "      <td>Individual</td>\n",
       "      <td>0.0</td>\n",
       "      <td>0.0</td>\n",
       "      <td>N</td>\n",
       "      <td>N</td>\n",
       "      <td>0</td>\n",
       "      <td>0</td>\n",
       "    </tr>\n",
       "    <tr>\n",
       "      <th>40177</th>\n",
       "      <td>3000</td>\n",
       "      <td>60 months</td>\n",
       "      <td>13.98</td>\n",
       "      <td>C</td>\n",
       "      <td>C3</td>\n",
       "      <td>NaN</td>\n",
       "      <td>OWN</td>\n",
       "      <td>69000.0</td>\n",
       "      <td>Not Verified</td>\n",
       "      <td>Aug-10</td>\n",
       "      <td>...</td>\n",
       "      <td>Mar-19</td>\n",
       "      <td>0.0</td>\n",
       "      <td>1</td>\n",
       "      <td>Individual</td>\n",
       "      <td>0.0</td>\n",
       "      <td>1.0</td>\n",
       "      <td>N</td>\n",
       "      <td>N</td>\n",
       "      <td>1</td>\n",
       "      <td>0</td>\n",
       "    </tr>\n",
       "    <tr>\n",
       "      <th>40185</th>\n",
       "      <td>3500</td>\n",
       "      <td>36 months</td>\n",
       "      <td>13.98</td>\n",
       "      <td>C</td>\n",
       "      <td>C3</td>\n",
       "      <td>NaN</td>\n",
       "      <td>MORTGAGE</td>\n",
       "      <td>70800.0</td>\n",
       "      <td>Not Verified</td>\n",
       "      <td>Aug-10</td>\n",
       "      <td>...</td>\n",
       "      <td>Jan-19</td>\n",
       "      <td>0.0</td>\n",
       "      <td>1</td>\n",
       "      <td>Individual</td>\n",
       "      <td>0.0</td>\n",
       "      <td>1.0</td>\n",
       "      <td>N</td>\n",
       "      <td>N</td>\n",
       "      <td>1</td>\n",
       "      <td>0</td>\n",
       "    </tr>\n",
       "    <tr>\n",
       "      <th>40216</th>\n",
       "      <td>5000</td>\n",
       "      <td>60 months</td>\n",
       "      <td>15.21</td>\n",
       "      <td>D</td>\n",
       "      <td>D2</td>\n",
       "      <td>NaN</td>\n",
       "      <td>MORTGAGE</td>\n",
       "      <td>21360.0</td>\n",
       "      <td>Not Verified</td>\n",
       "      <td>Aug-10</td>\n",
       "      <td>...</td>\n",
       "      <td>May-19</td>\n",
       "      <td>0.0</td>\n",
       "      <td>1</td>\n",
       "      <td>Individual</td>\n",
       "      <td>0.0</td>\n",
       "      <td>0.0</td>\n",
       "      <td>N</td>\n",
       "      <td>N</td>\n",
       "      <td>1</td>\n",
       "      <td>0</td>\n",
       "    </tr>\n",
       "    <tr>\n",
       "      <th>40302</th>\n",
       "      <td>5000</td>\n",
       "      <td>36 months</td>\n",
       "      <td>14.35</td>\n",
       "      <td>C</td>\n",
       "      <td>C4</td>\n",
       "      <td>NaN</td>\n",
       "      <td>MORTGAGE</td>\n",
       "      <td>50400.0</td>\n",
       "      <td>Not Verified</td>\n",
       "      <td>Jul-10</td>\n",
       "      <td>...</td>\n",
       "      <td>May-19</td>\n",
       "      <td>0.0</td>\n",
       "      <td>1</td>\n",
       "      <td>Individual</td>\n",
       "      <td>0.0</td>\n",
       "      <td>0.0</td>\n",
       "      <td>N</td>\n",
       "      <td>N</td>\n",
       "      <td>1</td>\n",
       "      <td>0</td>\n",
       "    </tr>\n",
       "    <tr>\n",
       "      <th>40304</th>\n",
       "      <td>1000</td>\n",
       "      <td>36 months</td>\n",
       "      <td>10.75</td>\n",
       "      <td>B</td>\n",
       "      <td>B2</td>\n",
       "      <td>NaN</td>\n",
       "      <td>MORTGAGE</td>\n",
       "      <td>49560.0</td>\n",
       "      <td>Not Verified</td>\n",
       "      <td>Jul-10</td>\n",
       "      <td>...</td>\n",
       "      <td>Aug-17</td>\n",
       "      <td>0.0</td>\n",
       "      <td>1</td>\n",
       "      <td>Individual</td>\n",
       "      <td>0.0</td>\n",
       "      <td>0.0</td>\n",
       "      <td>N</td>\n",
       "      <td>N</td>\n",
       "      <td>1</td>\n",
       "      <td>0</td>\n",
       "    </tr>\n",
       "    <tr>\n",
       "      <th>40313</th>\n",
       "      <td>2000</td>\n",
       "      <td>36 months</td>\n",
       "      <td>14.72</td>\n",
       "      <td>C</td>\n",
       "      <td>C5</td>\n",
       "      <td>NaN</td>\n",
       "      <td>RENT</td>\n",
       "      <td>43000.0</td>\n",
       "      <td>Source Verified</td>\n",
       "      <td>Jul-10</td>\n",
       "      <td>...</td>\n",
       "      <td>Feb-16</td>\n",
       "      <td>0.0</td>\n",
       "      <td>1</td>\n",
       "      <td>Individual</td>\n",
       "      <td>0.0</td>\n",
       "      <td>0.0</td>\n",
       "      <td>N</td>\n",
       "      <td>N</td>\n",
       "      <td>1</td>\n",
       "      <td>0</td>\n",
       "    </tr>\n",
       "    <tr>\n",
       "      <th>40337</th>\n",
       "      <td>4800</td>\n",
       "      <td>36 months</td>\n",
       "      <td>7.88</td>\n",
       "      <td>A</td>\n",
       "      <td>A5</td>\n",
       "      <td>NaN</td>\n",
       "      <td>MORTGAGE</td>\n",
       "      <td>45000.0</td>\n",
       "      <td>Not Verified</td>\n",
       "      <td>Jul-10</td>\n",
       "      <td>...</td>\n",
       "      <td>Feb-18</td>\n",
       "      <td>0.0</td>\n",
       "      <td>1</td>\n",
       "      <td>Individual</td>\n",
       "      <td>0.0</td>\n",
       "      <td>0.0</td>\n",
       "      <td>N</td>\n",
       "      <td>N</td>\n",
       "      <td>1</td>\n",
       "      <td>0</td>\n",
       "    </tr>\n",
       "    <tr>\n",
       "      <th>40392</th>\n",
       "      <td>3000</td>\n",
       "      <td>36 months</td>\n",
       "      <td>15.95</td>\n",
       "      <td>D</td>\n",
       "      <td>D4</td>\n",
       "      <td>NaN</td>\n",
       "      <td>RENT</td>\n",
       "      <td>50000.0</td>\n",
       "      <td>Source Verified</td>\n",
       "      <td>Jun-10</td>\n",
       "      <td>...</td>\n",
       "      <td>Jun-13</td>\n",
       "      <td>0.0</td>\n",
       "      <td>1</td>\n",
       "      <td>Individual</td>\n",
       "      <td>0.0</td>\n",
       "      <td>0.0</td>\n",
       "      <td>N</td>\n",
       "      <td>N</td>\n",
       "      <td>1</td>\n",
       "      <td>0</td>\n",
       "    </tr>\n",
       "    <tr>\n",
       "      <th>40399</th>\n",
       "      <td>3600</td>\n",
       "      <td>36 months</td>\n",
       "      <td>16.82</td>\n",
       "      <td>E</td>\n",
       "      <td>E2</td>\n",
       "      <td>NaN</td>\n",
       "      <td>RENT</td>\n",
       "      <td>43000.0</td>\n",
       "      <td>Not Verified</td>\n",
       "      <td>Jun-10</td>\n",
       "      <td>...</td>\n",
       "      <td>Sep-18</td>\n",
       "      <td>0.0</td>\n",
       "      <td>1</td>\n",
       "      <td>Individual</td>\n",
       "      <td>0.0</td>\n",
       "      <td>1.0</td>\n",
       "      <td>N</td>\n",
       "      <td>N</td>\n",
       "      <td>0</td>\n",
       "      <td>0</td>\n",
       "    </tr>\n",
       "    <tr>\n",
       "      <th>40422</th>\n",
       "      <td>4000</td>\n",
       "      <td>36 months</td>\n",
       "      <td>7.88</td>\n",
       "      <td>A</td>\n",
       "      <td>A5</td>\n",
       "      <td>NaN</td>\n",
       "      <td>MORTGAGE</td>\n",
       "      <td>50000.0</td>\n",
       "      <td>Not Verified</td>\n",
       "      <td>May-10</td>\n",
       "      <td>...</td>\n",
       "      <td>May-19</td>\n",
       "      <td>0.0</td>\n",
       "      <td>1</td>\n",
       "      <td>Individual</td>\n",
       "      <td>0.0</td>\n",
       "      <td>0.0</td>\n",
       "      <td>N</td>\n",
       "      <td>N</td>\n",
       "      <td>0</td>\n",
       "      <td>0</td>\n",
       "    </tr>\n",
       "    <tr>\n",
       "      <th>40437</th>\n",
       "      <td>10000</td>\n",
       "      <td>36 months</td>\n",
       "      <td>9.88</td>\n",
       "      <td>B</td>\n",
       "      <td>B1</td>\n",
       "      <td>NaN</td>\n",
       "      <td>MORTGAGE</td>\n",
       "      <td>24000.0</td>\n",
       "      <td>Not Verified</td>\n",
       "      <td>May-10</td>\n",
       "      <td>...</td>\n",
       "      <td>Mar-16</td>\n",
       "      <td>0.0</td>\n",
       "      <td>1</td>\n",
       "      <td>Individual</td>\n",
       "      <td>0.0</td>\n",
       "      <td>0.0</td>\n",
       "      <td>N</td>\n",
       "      <td>N</td>\n",
       "      <td>1</td>\n",
       "      <td>0</td>\n",
       "    </tr>\n",
       "    <tr>\n",
       "      <th>40582</th>\n",
       "      <td>5000</td>\n",
       "      <td>36 months</td>\n",
       "      <td>13.11</td>\n",
       "      <td>C</td>\n",
       "      <td>C2</td>\n",
       "      <td>NaN</td>\n",
       "      <td>RENT</td>\n",
       "      <td>55260.0</td>\n",
       "      <td>Not Verified</td>\n",
       "      <td>Mar-10</td>\n",
       "      <td>...</td>\n",
       "      <td>May-19</td>\n",
       "      <td>0.0</td>\n",
       "      <td>1</td>\n",
       "      <td>Individual</td>\n",
       "      <td>0.0</td>\n",
       "      <td>0.0</td>\n",
       "      <td>N</td>\n",
       "      <td>N</td>\n",
       "      <td>0</td>\n",
       "      <td>0</td>\n",
       "    </tr>\n",
       "    <tr>\n",
       "      <th>40666</th>\n",
       "      <td>14500</td>\n",
       "      <td>36 months</td>\n",
       "      <td>21.64</td>\n",
       "      <td>G</td>\n",
       "      <td>G5</td>\n",
       "      <td>NaN</td>\n",
       "      <td>RENT</td>\n",
       "      <td>60000.0</td>\n",
       "      <td>Verified</td>\n",
       "      <td>Feb-10</td>\n",
       "      <td>...</td>\n",
       "      <td>May-19</td>\n",
       "      <td>0.0</td>\n",
       "      <td>1</td>\n",
       "      <td>Individual</td>\n",
       "      <td>0.0</td>\n",
       "      <td>0.0</td>\n",
       "      <td>N</td>\n",
       "      <td>N</td>\n",
       "      <td>0</td>\n",
       "      <td>0</td>\n",
       "    </tr>\n",
       "    <tr>\n",
       "      <th>40671</th>\n",
       "      <td>3700</td>\n",
       "      <td>36 months</td>\n",
       "      <td>7.88</td>\n",
       "      <td>A</td>\n",
       "      <td>A5</td>\n",
       "      <td>NaN</td>\n",
       "      <td>MORTGAGE</td>\n",
       "      <td>59820.0</td>\n",
       "      <td>Not Verified</td>\n",
       "      <td>Feb-10</td>\n",
       "      <td>...</td>\n",
       "      <td>Feb-19</td>\n",
       "      <td>0.0</td>\n",
       "      <td>1</td>\n",
       "      <td>Individual</td>\n",
       "      <td>0.0</td>\n",
       "      <td>0.0</td>\n",
       "      <td>N</td>\n",
       "      <td>N</td>\n",
       "      <td>1</td>\n",
       "      <td>0</td>\n",
       "    </tr>\n",
       "    <tr>\n",
       "      <th>40696</th>\n",
       "      <td>3250</td>\n",
       "      <td>36 months</td>\n",
       "      <td>16.07</td>\n",
       "      <td>D</td>\n",
       "      <td>D5</td>\n",
       "      <td>NaN</td>\n",
       "      <td>MORTGAGE</td>\n",
       "      <td>42192.0</td>\n",
       "      <td>Not Verified</td>\n",
       "      <td>Feb-10</td>\n",
       "      <td>...</td>\n",
       "      <td>Mar-19</td>\n",
       "      <td>0.0</td>\n",
       "      <td>1</td>\n",
       "      <td>Individual</td>\n",
       "      <td>0.0</td>\n",
       "      <td>1.0</td>\n",
       "      <td>N</td>\n",
       "      <td>N</td>\n",
       "      <td>1</td>\n",
       "      <td>0</td>\n",
       "    </tr>\n",
       "    <tr>\n",
       "      <th>40730</th>\n",
       "      <td>3600</td>\n",
       "      <td>36 months</td>\n",
       "      <td>12.87</td>\n",
       "      <td>C</td>\n",
       "      <td>C1</td>\n",
       "      <td>NaN</td>\n",
       "      <td>RENT</td>\n",
       "      <td>24000.0</td>\n",
       "      <td>Not Verified</td>\n",
       "      <td>Jan-10</td>\n",
       "      <td>...</td>\n",
       "      <td>May-19</td>\n",
       "      <td>0.0</td>\n",
       "      <td>1</td>\n",
       "      <td>Individual</td>\n",
       "      <td>0.0</td>\n",
       "      <td>0.0</td>\n",
       "      <td>N</td>\n",
       "      <td>N</td>\n",
       "      <td>1</td>\n",
       "      <td>0</td>\n",
       "    </tr>\n",
       "  </tbody>\n",
       "</table>\n",
       "<p>1112 rows × 38 columns</p>\n",
       "</div>"
      ],
      "text/plain": [
       "       loan_amnt        term  int_rate grade sub_grade emp_length  \\\n",
       "168         2500   36 months      7.51     A        A3        NaN   \n",
       "323        18000   60 months     17.58     D        D4        NaN   \n",
       "394         4000   36 months     11.71     B        B3        NaN   \n",
       "422         1000   36 months     14.65     C        C3        NaN   \n",
       "439         8250   36 months      7.51     A        A3        NaN   \n",
       "534         1700   36 months      7.90     A        A4        NaN   \n",
       "555         5000   36 months      8.90     A        A5        NaN   \n",
       "562         3000   36 months      9.91     B        B1        NaN   \n",
       "569         8575   36 months     17.58     D        D4        NaN   \n",
       "680         5600   36 months      6.03     A        A1        NaN   \n",
       "713         6500   60 months     14.27     C        C2        NaN   \n",
       "752        14125   36 months     12.42     B        B4        NaN   \n",
       "863         7000   60 months      8.90     A        A5        NaN   \n",
       "902         2250   36 months     15.27     C        C4        NaN   \n",
       "933         6000   60 months      7.90     A        A4        NaN   \n",
       "975         7000   36 months      6.62     A        A2        NaN   \n",
       "985        15000   36 months     12.42     B        B4        NaN   \n",
       "1018       12000   60 months      9.91     B        B1        NaN   \n",
       "1090       12000   36 months      6.03     A        A1        NaN   \n",
       "1093       15000   36 months     17.27     D        D3        NaN   \n",
       "1123        8500   36 months     15.96     C        C5        NaN   \n",
       "1140        5000   36 months      7.51     A        A3        NaN   \n",
       "1148       20000   60 months     13.49     C        C1        NaN   \n",
       "1149        4000   36 months     15.27     C        C4        NaN   \n",
       "1160        5000   36 months     14.65     C        C3        NaN   \n",
       "1176       20400   60 months     11.71     B        B3        NaN   \n",
       "1228        5000   36 months      7.90     A        A4        NaN   \n",
       "1259        1400   36 months      8.90     A        A5        NaN   \n",
       "1282        9250   36 months     10.65     B        B2        NaN   \n",
       "1314        7200   36 months     12.69     B        B5        NaN   \n",
       "...          ...         ...       ...   ...       ...        ...   \n",
       "39907       2400   60 months     15.57     D        D5        NaN   \n",
       "39948       4200   36 months      9.62     B        B3        NaN   \n",
       "39958      25000   36 months     15.20     D        D4        NaN   \n",
       "39962      12250   36 months     17.80     F        F1        NaN   \n",
       "39983       1500   36 months     13.72     C        C5        NaN   \n",
       "40016       3600   36 months     11.86     B        B5        NaN   \n",
       "40029       8000   60 months     19.79     F        F5        NaN   \n",
       "40055       7000   36 months     15.58     D        D3        NaN   \n",
       "40069      12000   60 months     15.95     D        D4        NaN   \n",
       "40071       6000   60 months     11.12     B        B3        NaN   \n",
       "40075       1000   36 months     10.38     B        B1        NaN   \n",
       "40080       2000   36 months     14.72     C        C5        NaN   \n",
       "40106       4000   60 months     17.19     E        E3        NaN   \n",
       "40136       2000   36 months     10.38     B        B1        NaN   \n",
       "40177       3000   60 months     13.98     C        C3        NaN   \n",
       "40185       3500   36 months     13.98     C        C3        NaN   \n",
       "40216       5000   60 months     15.21     D        D2        NaN   \n",
       "40302       5000   36 months     14.35     C        C4        NaN   \n",
       "40304       1000   36 months     10.75     B        B2        NaN   \n",
       "40313       2000   36 months     14.72     C        C5        NaN   \n",
       "40337       4800   36 months      7.88     A        A5        NaN   \n",
       "40392       3000   36 months     15.95     D        D4        NaN   \n",
       "40399       3600   36 months     16.82     E        E2        NaN   \n",
       "40422       4000   36 months      7.88     A        A5        NaN   \n",
       "40437      10000   36 months      9.88     B        B1        NaN   \n",
       "40582       5000   36 months     13.11     C        C2        NaN   \n",
       "40666      14500   36 months     21.64     G        G5        NaN   \n",
       "40671       3700   36 months      7.88     A        A5        NaN   \n",
       "40696       3250   36 months     16.07     D        D5        NaN   \n",
       "40730       3600   36 months     12.87     C        C1        NaN   \n",
       "\n",
       "      home_ownership  annual_inc verification_status issue_d      ...        \\\n",
       "168              OWN     12000.0     Source Verified  Dec-11      ...         \n",
       "323         MORTGAGE     60000.0            Verified  Dec-11      ...         \n",
       "394             RENT     24000.0     Source Verified  Dec-11      ...         \n",
       "422             RENT     18408.0        Not Verified  Dec-11      ...         \n",
       "439         MORTGAGE     31500.0            Verified  Dec-11      ...         \n",
       "534         MORTGAGE     37800.0        Not Verified  Dec-11      ...         \n",
       "555         MORTGAGE     70000.0     Source Verified  Dec-11      ...         \n",
       "562         MORTGAGE     42000.0        Not Verified  Dec-11      ...         \n",
       "569         MORTGAGE     32000.0            Verified  Dec-11      ...         \n",
       "680              OWN     41100.0        Not Verified  Dec-11      ...         \n",
       "713         MORTGAGE     46212.0            Verified  Dec-11      ...         \n",
       "752         MORTGAGE     45696.0            Verified  Dec-11      ...         \n",
       "863         MORTGAGE     25000.0        Not Verified  Dec-11      ...         \n",
       "902         MORTGAGE     17352.0            Verified  Dec-11      ...         \n",
       "933              OWN     34848.0            Verified  Dec-11      ...         \n",
       "975         MORTGAGE     24000.0            Verified  Dec-11      ...         \n",
       "985             RENT     60000.0            Verified  Dec-11      ...         \n",
       "1018            RENT     35000.0        Not Verified  Dec-11      ...         \n",
       "1090             OWN     40000.0     Source Verified  Dec-11      ...         \n",
       "1093             OWN     57000.0     Source Verified  Dec-11      ...         \n",
       "1123            RENT     27050.0     Source Verified  Dec-11      ...         \n",
       "1140            RENT     84855.0            Verified  Dec-11      ...         \n",
       "1148        MORTGAGE    100000.0     Source Verified  Dec-11      ...         \n",
       "1149             OWN     25000.0        Not Verified  Dec-11      ...         \n",
       "1160        MORTGAGE     48000.0        Not Verified  Dec-11      ...         \n",
       "1176            RENT     40800.0            Verified  Dec-11      ...         \n",
       "1228            RENT     30000.0        Not Verified  Dec-11      ...         \n",
       "1259        MORTGAGE     30108.0        Not Verified  Dec-11      ...         \n",
       "1282             OWN     20000.0            Verified  Dec-11      ...         \n",
       "1314        MORTGAGE     45000.0            Verified  Dec-11      ...         \n",
       "...              ...         ...                 ...     ...      ...         \n",
       "39907       MORTGAGE     44000.0            Verified  Nov-10      ...         \n",
       "39948           RENT     28800.0        Not Verified  Nov-10      ...         \n",
       "39958           RENT     70000.0            Verified  Nov-10      ...         \n",
       "39962       MORTGAGE     44400.0            Verified  Oct-10      ...         \n",
       "39983           RENT      9600.0        Not Verified  Oct-10      ...         \n",
       "40016           RENT     25980.0        Not Verified  Oct-10      ...         \n",
       "40029       MORTGAGE     34992.0            Verified  Oct-10      ...         \n",
       "40055       MORTGAGE     55200.0            Verified  Oct-10      ...         \n",
       "40069       MORTGAGE     49000.0        Not Verified  Sep-10      ...         \n",
       "40071            OWN     65000.0        Not Verified  Sep-10      ...         \n",
       "40075           RENT     10200.0            Verified  Sep-10      ...         \n",
       "40080       MORTGAGE     59000.0        Not Verified  Sep-10      ...         \n",
       "40106       MORTGAGE     27600.0            Verified  Sep-10      ...         \n",
       "40136           RENT     68000.0        Not Verified  Sep-10      ...         \n",
       "40177            OWN     69000.0        Not Verified  Aug-10      ...         \n",
       "40185       MORTGAGE     70800.0        Not Verified  Aug-10      ...         \n",
       "40216       MORTGAGE     21360.0        Not Verified  Aug-10      ...         \n",
       "40302       MORTGAGE     50400.0        Not Verified  Jul-10      ...         \n",
       "40304       MORTGAGE     49560.0        Not Verified  Jul-10      ...         \n",
       "40313           RENT     43000.0     Source Verified  Jul-10      ...         \n",
       "40337       MORTGAGE     45000.0        Not Verified  Jul-10      ...         \n",
       "40392           RENT     50000.0     Source Verified  Jun-10      ...         \n",
       "40399           RENT     43000.0        Not Verified  Jun-10      ...         \n",
       "40422       MORTGAGE     50000.0        Not Verified  May-10      ...         \n",
       "40437       MORTGAGE     24000.0        Not Verified  May-10      ...         \n",
       "40582           RENT     55260.0        Not Verified  Mar-10      ...         \n",
       "40666           RENT     60000.0            Verified  Feb-10      ...         \n",
       "40671       MORTGAGE     59820.0        Not Verified  Feb-10      ...         \n",
       "40696       MORTGAGE     42192.0        Not Verified  Feb-10      ...         \n",
       "40730           RENT     24000.0        Not Verified  Jan-10      ...         \n",
       "\n",
       "      last_credit_pull_d collections_12_mths_ex_med  policy_code  \\\n",
       "168               May-19                        0.0            1   \n",
       "323               Jul-16                        0.0            1   \n",
       "394               May-19                        0.0            1   \n",
       "422               Jun-12                        0.0            1   \n",
       "439               Mar-19                        0.0            1   \n",
       "534               Oct-16                        0.0            1   \n",
       "555               Oct-14                        0.0            1   \n",
       "562               Dec-14                        0.0            1   \n",
       "569               Oct-16                        0.0            1   \n",
       "680               Dec-12                        0.0            1   \n",
       "713               Jan-17                        0.0            1   \n",
       "752               May-19                        0.0            1   \n",
       "863               Mar-19                        0.0            1   \n",
       "902               Dec-18                        0.0            1   \n",
       "933               May-19                        0.0            1   \n",
       "975               May-19                        0.0            1   \n",
       "985               Dec-14                        0.0            1   \n",
       "1018              Jan-17                        0.0            1   \n",
       "1090              Jan-15                        0.0            1   \n",
       "1093              May-17                        0.0            1   \n",
       "1123              Oct-16                        0.0            1   \n",
       "1140              Oct-16                        0.0            1   \n",
       "1148              Nov-16                        0.0            1   \n",
       "1149              Oct-16                        0.0            1   \n",
       "1160              Feb-15                        0.0            1   \n",
       "1176              Feb-17                        0.0            1   \n",
       "1228              Mar-16                        0.0            1   \n",
       "1259              Oct-16                        0.0            1   \n",
       "1282              Mar-13                        0.0            1   \n",
       "1314              Apr-17                        0.0            1   \n",
       "...                  ...                        ...          ...   \n",
       "39907             Oct-16                        0.0            1   \n",
       "39948             Apr-19                        0.0            1   \n",
       "39958             May-19                        0.0            1   \n",
       "39962             Nov-13                        0.0            1   \n",
       "39983             May-19                        0.0            1   \n",
       "40016             May-19                        0.0            1   \n",
       "40029             Oct-16                        0.0            1   \n",
       "40055             Sep-17                        0.0            1   \n",
       "40069             May-19                        0.0            1   \n",
       "40071             May-14                        0.0            1   \n",
       "40075             May-19                        0.0            1   \n",
       "40080             May-11                        0.0            1   \n",
       "40106             Oct-16                        0.0            1   \n",
       "40136             May-19                        0.0            1   \n",
       "40177             Mar-19                        0.0            1   \n",
       "40185             Jan-19                        0.0            1   \n",
       "40216             May-19                        0.0            1   \n",
       "40302             May-19                        0.0            1   \n",
       "40304             Aug-17                        0.0            1   \n",
       "40313             Feb-16                        0.0            1   \n",
       "40337             Feb-18                        0.0            1   \n",
       "40392             Jun-13                        0.0            1   \n",
       "40399             Sep-18                        0.0            1   \n",
       "40422             May-19                        0.0            1   \n",
       "40437             Mar-16                        0.0            1   \n",
       "40582             May-19                        0.0            1   \n",
       "40666             May-19                        0.0            1   \n",
       "40671             Feb-19                        0.0            1   \n",
       "40696             Mar-19                        0.0            1   \n",
       "40730             May-19                        0.0            1   \n",
       "\n",
       "      application_type  chargeoff_within_12_mths  pub_rec_bankruptcies  \\\n",
       "168         Individual                       0.0                   0.0   \n",
       "323         Individual                       0.0                   0.0   \n",
       "394         Individual                       0.0                   0.0   \n",
       "422         Individual                       0.0                   1.0   \n",
       "439         Individual                       0.0                   0.0   \n",
       "534         Individual                       0.0                   0.0   \n",
       "555         Individual                       0.0                   0.0   \n",
       "562         Individual                       0.0                   0.0   \n",
       "569         Individual                       0.0                   0.0   \n",
       "680         Individual                       0.0                   0.0   \n",
       "713         Individual                       0.0                   0.0   \n",
       "752         Individual                       0.0                   0.0   \n",
       "863         Individual                       0.0                   0.0   \n",
       "902         Individual                       0.0                   0.0   \n",
       "933         Individual                       0.0                   0.0   \n",
       "975         Individual                       0.0                   0.0   \n",
       "985         Individual                       0.0                   0.0   \n",
       "1018        Individual                       0.0                   0.0   \n",
       "1090        Individual                       0.0                   0.0   \n",
       "1093        Individual                       0.0                   0.0   \n",
       "1123        Individual                       0.0                   0.0   \n",
       "1140        Individual                       0.0                   0.0   \n",
       "1148        Individual                       0.0                   0.0   \n",
       "1149        Individual                       0.0                   0.0   \n",
       "1160        Individual                       0.0                   0.0   \n",
       "1176        Individual                       0.0                   0.0   \n",
       "1228        Individual                       0.0                   0.0   \n",
       "1259        Individual                       0.0                   0.0   \n",
       "1282        Individual                       0.0                   1.0   \n",
       "1314        Individual                       0.0                   0.0   \n",
       "...                ...                       ...                   ...   \n",
       "39907       Individual                       0.0                   0.0   \n",
       "39948       Individual                       0.0                   0.0   \n",
       "39958       Individual                       0.0                   0.0   \n",
       "39962       Individual                       0.0                   0.0   \n",
       "39983       Individual                       0.0                   0.0   \n",
       "40016       Individual                       0.0                   0.0   \n",
       "40029       Individual                       0.0                   1.0   \n",
       "40055       Individual                       0.0                   0.0   \n",
       "40069       Individual                       0.0                   0.0   \n",
       "40071       Individual                       0.0                   0.0   \n",
       "40075       Individual                       0.0                   0.0   \n",
       "40080       Individual                       0.0                   0.0   \n",
       "40106       Individual                       0.0                   0.0   \n",
       "40136       Individual                       0.0                   0.0   \n",
       "40177       Individual                       0.0                   1.0   \n",
       "40185       Individual                       0.0                   1.0   \n",
       "40216       Individual                       0.0                   0.0   \n",
       "40302       Individual                       0.0                   0.0   \n",
       "40304       Individual                       0.0                   0.0   \n",
       "40313       Individual                       0.0                   0.0   \n",
       "40337       Individual                       0.0                   0.0   \n",
       "40392       Individual                       0.0                   0.0   \n",
       "40399       Individual                       0.0                   1.0   \n",
       "40422       Individual                       0.0                   0.0   \n",
       "40437       Individual                       0.0                   0.0   \n",
       "40582       Individual                       0.0                   0.0   \n",
       "40666       Individual                       0.0                   0.0   \n",
       "40671       Individual                       0.0                   0.0   \n",
       "40696       Individual                       0.0                   1.0   \n",
       "40730       Individual                       0.0                   0.0   \n",
       "\n",
       "      hardship_flag debt_settlement_flag  target  credit_policy  \n",
       "168               N                    N       0              1  \n",
       "323               N                    N       1              1  \n",
       "394               N                    N       1              1  \n",
       "422               N                    N       0              1  \n",
       "439               N                    N       1              1  \n",
       "534               N                    N       0              1  \n",
       "555               N                    N       1              1  \n",
       "562               N                    N       1              1  \n",
       "569               N                    N       0              1  \n",
       "680               N                    N       1              1  \n",
       "713               N                    N       1              1  \n",
       "752               N                    N       0              1  \n",
       "863               N                    N       1              1  \n",
       "902               N                    N       1              1  \n",
       "933               N                    N       1              1  \n",
       "975               N                    N       1              1  \n",
       "985               N                    N       1              1  \n",
       "1018              N                    N       1              1  \n",
       "1090              N                    N       1              1  \n",
       "1093              N                    N       1              1  \n",
       "1123              N                    N       0              1  \n",
       "1140              N                    N       0              1  \n",
       "1148              N                    N       0              1  \n",
       "1149              N                    N       0              1  \n",
       "1160              N                    N       1              1  \n",
       "1176              N                    N       1              1  \n",
       "1228              N                    N       1              1  \n",
       "1259              N                    N       0              1  \n",
       "1282              N                    N       1              1  \n",
       "1314              N                    N       1              1  \n",
       "...             ...                  ...     ...            ...  \n",
       "39907             N                    N       0              0  \n",
       "39948             N                    N       1              0  \n",
       "39958             N                    N       1              0  \n",
       "39962             N                    N       1              0  \n",
       "39983             N                    N       1              0  \n",
       "40016             N                    N       0              0  \n",
       "40029             N                    N       0              0  \n",
       "40055             N                    N       0              0  \n",
       "40069             N                    N       0              0  \n",
       "40071             N                    N       1              0  \n",
       "40075             N                    N       0              0  \n",
       "40080             N                    N       0              0  \n",
       "40106             N                    N       0              0  \n",
       "40136             N                    N       0              0  \n",
       "40177             N                    N       1              0  \n",
       "40185             N                    N       1              0  \n",
       "40216             N                    N       1              0  \n",
       "40302             N                    N       1              0  \n",
       "40304             N                    N       1              0  \n",
       "40313             N                    N       1              0  \n",
       "40337             N                    N       1              0  \n",
       "40392             N                    N       1              0  \n",
       "40399             N                    N       0              0  \n",
       "40422             N                    N       0              0  \n",
       "40437             N                    N       1              0  \n",
       "40582             N                    N       0              0  \n",
       "40666             N                    N       0              0  \n",
       "40671             N                    N       1              0  \n",
       "40696             N                    N       1              0  \n",
       "40730             N                    N       1              0  \n",
       "\n",
       "[1112 rows x 38 columns]"
      ]
     },
     "execution_count": 60,
     "metadata": {},
     "output_type": "execute_result"
    }
   ],
   "source": [
    "loan[loan.emp_length.isnull()]"
   ]
  },
  {
   "cell_type": "code",
   "execution_count": 61,
   "metadata": {},
   "outputs": [],
   "source": [
    "loan.emp_length.fillna(value=0,axis=0,inplace=True)"
   ]
  },
  {
   "cell_type": "code",
   "execution_count": 62,
   "metadata": {},
   "outputs": [],
   "source": [
    "#assuming the people who dont have work experience have taken the loan"
   ]
  },
  {
   "cell_type": "code",
   "execution_count": 63,
   "metadata": {},
   "outputs": [],
   "source": [
    "loan.emp_length.replace(to_replace='[^0-9]+',value='',inplace=True,regex=True)"
   ]
  },
  {
   "cell_type": "code",
   "execution_count": 64,
   "metadata": {},
   "outputs": [
    {
     "data": {
      "text/plain": [
       "10    9369\n",
       "1     8657\n",
       "2     4743\n",
       "3     4364\n",
       "4     3649\n",
       "5     3458\n",
       "6     2375\n",
       "7     1875\n",
       "8     1592\n",
       "9     1341\n",
       "0     1112\n",
       "Name: emp_length, dtype: int64"
      ]
     },
     "execution_count": 64,
     "metadata": {},
     "output_type": "execute_result"
    }
   ],
   "source": [
    "loan.emp_length.value_counts()"
   ]
  },
  {
   "cell_type": "code",
   "execution_count": 65,
   "metadata": {},
   "outputs": [
    {
     "data": {
      "text/plain": [
       "0.0    39316\n",
       "1.0     1846\n",
       "2.0        8\n",
       "Name: pub_rec_bankruptcies, dtype: int64"
      ]
     },
     "execution_count": 65,
     "metadata": {},
     "output_type": "execute_result"
    }
   ],
   "source": [
    "loan.pub_rec_bankruptcies.value_counts()"
   ]
  },
  {
   "cell_type": "code",
   "execution_count": 66,
   "metadata": {},
   "outputs": [],
   "source": [
    "loan.pub_rec_bankruptcies.fillna(value=0.0,inplace=True)"
   ]
  },
  {
   "cell_type": "code",
   "execution_count": 67,
   "metadata": {},
   "outputs": [
    {
     "data": {
      "text/plain": [
       "0.0    40681\n",
       "1.0     1846\n",
       "2.0        8\n",
       "Name: pub_rec_bankruptcies, dtype: int64"
      ]
     },
     "execution_count": 67,
     "metadata": {},
     "output_type": "execute_result"
    }
   ],
   "source": [
    "loan.pub_rec_bankruptcies.value_counts()"
   ]
  },
  {
   "cell_type": "code",
   "execution_count": 68,
   "metadata": {},
   "outputs": [],
   "source": [
    "#dropping all other rows with null values"
   ]
  },
  {
   "cell_type": "code",
   "execution_count": 69,
   "metadata": {},
   "outputs": [],
   "source": [
    "loan.dropna(inplace=True)"
   ]
  },
  {
   "cell_type": "code",
   "execution_count": 70,
   "metadata": {},
   "outputs": [
    {
     "name": "stdout",
     "output_type": "stream",
     "text": [
      "<class 'pandas.core.frame.DataFrame'>\n",
      "Int64Index: 42251 entries, 0 to 42448\n",
      "Data columns (total 38 columns):\n",
      "loan_amnt                     42251 non-null int64\n",
      "term                          42251 non-null object\n",
      "int_rate                      42251 non-null float64\n",
      "grade                         42251 non-null object\n",
      "sub_grade                     42251 non-null object\n",
      "emp_length                    42251 non-null object\n",
      "home_ownership                42251 non-null object\n",
      "annual_inc                    42251 non-null float64\n",
      "verification_status           42251 non-null object\n",
      "issue_d                       42251 non-null object\n",
      "purpose                       42251 non-null object\n",
      "addr_state                    42251 non-null object\n",
      "dti                           42251 non-null float64\n",
      "earliest_cr_line              42251 non-null object\n",
      "inq_last_6mths                42251 non-null float64\n",
      "pub_rec                       42251 non-null float64\n",
      "revol_util                    42251 non-null object\n",
      "initial_list_status           42251 non-null object\n",
      "out_prncp                     42251 non-null int64\n",
      "out_prncp_inv                 42251 non-null int64\n",
      "total_pymnt                   42251 non-null float64\n",
      "total_pymnt_inv               42251 non-null float64\n",
      "total_rec_prncp               42251 non-null float64\n",
      "total_rec_late_fee            42251 non-null float64\n",
      "recoveries                    42251 non-null float64\n",
      "collection_recovery_fee       42251 non-null float64\n",
      "last_pymnt_d                  42251 non-null object\n",
      "last_pymnt_amnt               42251 non-null float64\n",
      "last_credit_pull_d            42251 non-null object\n",
      "collections_12_mths_ex_med    42251 non-null float64\n",
      "policy_code                   42251 non-null int64\n",
      "application_type              42251 non-null object\n",
      "chargeoff_within_12_mths      42251 non-null float64\n",
      "pub_rec_bankruptcies          42251 non-null float64\n",
      "hardship_flag                 42251 non-null object\n",
      "debt_settlement_flag          42251 non-null object\n",
      "target                        42251 non-null int64\n",
      "credit_policy                 42251 non-null int64\n",
      "dtypes: float64(15), int64(6), object(17)\n",
      "memory usage: 12.6+ MB\n"
     ]
    }
   ],
   "source": [
    "loan.info()"
   ]
  },
  {
   "cell_type": "code",
   "execution_count": 71,
   "metadata": {},
   "outputs": [
    {
     "data": {
      "text/plain": [
       "N    42251\n",
       "Name: hardship_flag, dtype: int64"
      ]
     },
     "execution_count": 71,
     "metadata": {},
     "output_type": "execute_result"
    }
   ],
   "source": [
    "loan.hardship_flag.value_counts()"
   ]
  },
  {
   "cell_type": "code",
   "execution_count": 72,
   "metadata": {},
   "outputs": [],
   "source": [
    "#hardship_flag has only one value hence dropping it\n",
    "loan.drop('hardship_flag',inplace=True,axis=1)"
   ]
  },
  {
   "cell_type": "code",
   "execution_count": 73,
   "metadata": {},
   "outputs": [
    {
     "data": {
      "text/plain": [
       "N    42092\n",
       "Y      159\n",
       "Name: debt_settlement_flag, dtype: int64"
      ]
     },
     "execution_count": 73,
     "metadata": {},
     "output_type": "execute_result"
    }
   ],
   "source": [
    "loan.debt_settlement_flag.value_counts()"
   ]
  },
  {
   "cell_type": "code",
   "execution_count": 74,
   "metadata": {},
   "outputs": [
    {
     "data": {
      "text/plain": [
       "0.0    42251\n",
       "Name: chargeoff_within_12_mths, dtype: int64"
      ]
     },
     "execution_count": 74,
     "metadata": {},
     "output_type": "execute_result"
    }
   ],
   "source": [
    "loan.chargeoff_within_12_mths.value_counts()"
   ]
  },
  {
   "cell_type": "code",
   "execution_count": 75,
   "metadata": {},
   "outputs": [],
   "source": [
    "#dropping this column too\n",
    "loan.drop('chargeoff_within_12_mths',axis=1,inplace=True)"
   ]
  },
  {
   "cell_type": "code",
   "execution_count": 76,
   "metadata": {},
   "outputs": [
    {
     "data": {
      "text/plain": [
       "1    42251\n",
       "Name: policy_code, dtype: int64"
      ]
     },
     "execution_count": 76,
     "metadata": {},
     "output_type": "execute_result"
    }
   ],
   "source": [
    "loan.policy_code.value_counts()"
   ]
  },
  {
   "cell_type": "code",
   "execution_count": 77,
   "metadata": {},
   "outputs": [],
   "source": [
    "loan.drop('policy_code',axis=1,inplace=True)"
   ]
  },
  {
   "cell_type": "code",
   "execution_count": 78,
   "metadata": {},
   "outputs": [
    {
     "data": {
      "text/plain": [
       "Individual    42251\n",
       "Name: application_type, dtype: int64"
      ]
     },
     "execution_count": 78,
     "metadata": {},
     "output_type": "execute_result"
    }
   ],
   "source": [
    "loan.application_type.value_counts()"
   ]
  },
  {
   "cell_type": "code",
   "execution_count": 79,
   "metadata": {},
   "outputs": [],
   "source": [
    "loan.drop('application_type',axis=1,inplace=True)"
   ]
  },
  {
   "cell_type": "code",
   "execution_count": 80,
   "metadata": {},
   "outputs": [
    {
     "data": {
      "text/plain": [
       "0.0    42251\n",
       "Name: collections_12_mths_ex_med, dtype: int64"
      ]
     },
     "execution_count": 80,
     "metadata": {},
     "output_type": "execute_result"
    }
   ],
   "source": [
    "loan.collections_12_mths_ex_med.value_counts()"
   ]
  },
  {
   "cell_type": "code",
   "execution_count": 81,
   "metadata": {},
   "outputs": [],
   "source": [
    "loan.drop('collections_12_mths_ex_med',axis=1,inplace=True)"
   ]
  },
  {
   "cell_type": "code",
   "execution_count": 82,
   "metadata": {},
   "outputs": [],
   "source": [
    "date=pd.to_datetime(loan['last_credit_pull_d'],format='%b-%y')"
   ]
  },
  {
   "cell_type": "code",
   "execution_count": 83,
   "metadata": {},
   "outputs": [],
   "source": [
    "loan['last_credit_pull_d']=date.dt.year"
   ]
  },
  {
   "cell_type": "code",
   "execution_count": 84,
   "metadata": {},
   "outputs": [],
   "source": [
    "date=pd.to_datetime(loan['last_pymnt_d'],format='%b-%y')"
   ]
  },
  {
   "cell_type": "code",
   "execution_count": 85,
   "metadata": {},
   "outputs": [],
   "source": [
    "loan['last_pymnt_d']=date.dt.year"
   ]
  },
  {
   "cell_type": "code",
   "execution_count": 86,
   "metadata": {},
   "outputs": [
    {
     "data": {
      "text/plain": [
       "loan_amnt                 -0.044614\n",
       "int_rate                  -0.198950\n",
       "annual_inc                 0.037002\n",
       "dti                       -0.043337\n",
       "inq_last_6mths            -0.107688\n",
       "pub_rec                   -0.053346\n",
       "out_prncp                       NaN\n",
       "out_prncp_inv                   NaN\n",
       "total_pymnt                0.241483\n",
       "total_pymnt_inv            0.239312\n",
       "total_rec_prncp            0.338896\n",
       "total_rec_late_fee        -0.159530\n",
       "recoveries                -0.332530\n",
       "collection_recovery_fee   -0.210723\n",
       "last_pymnt_d               0.228358\n",
       "last_pymnt_amnt            0.219094\n",
       "last_credit_pull_d        -0.142486\n",
       "pub_rec_bankruptcies      -0.050436\n",
       "target                     1.000000\n",
       "credit_policy              0.091104\n",
       "Name: target, dtype: float64"
      ]
     },
     "execution_count": 86,
     "metadata": {},
     "output_type": "execute_result"
    }
   ],
   "source": [
    "loan.corr().target"
   ]
  },
  {
   "cell_type": "code",
   "execution_count": 87,
   "metadata": {},
   "outputs": [
    {
     "data": {
      "text/plain": [
       "loan_amnt                  0.884184\n",
       "int_rate                   0.294586\n",
       "annual_inc                 0.258642\n",
       "dti                        0.061845\n",
       "inq_last_6mths            -0.053755\n",
       "pub_rec                   -0.054270\n",
       "out_prncp                       NaN\n",
       "out_prncp_inv                   NaN\n",
       "total_pymnt                1.000000\n",
       "total_pymnt_inv            0.965592\n",
       "total_rec_prncp            0.972304\n",
       "total_rec_late_fee         0.017249\n",
       "recoveries                 0.030839\n",
       "collection_recovery_fee    0.029505\n",
       "last_pymnt_d               0.319061\n",
       "last_pymnt_amnt            0.465748\n",
       "last_credit_pull_d         0.025571\n",
       "pub_rec_bankruptcies      -0.042697\n",
       "target                     0.241483\n",
       "credit_policy              0.083859\n",
       "Name: total_pymnt, dtype: float64"
      ]
     },
     "execution_count": 87,
     "metadata": {},
     "output_type": "execute_result"
    }
   ],
   "source": [
    "loan.corr().total_pymnt"
   ]
  },
  {
   "cell_type": "code",
   "execution_count": 88,
   "metadata": {},
   "outputs": [],
   "source": [
    "#droping total_rec_prncp,total_pymnt_inv."
   ]
  },
  {
   "cell_type": "code",
   "execution_count": 89,
   "metadata": {},
   "outputs": [],
   "source": [
    "loan.drop(['total_rec_prncp','total_pymnt_inv'],axis=1,inplace=True)"
   ]
  },
  {
   "cell_type": "code",
   "execution_count": 90,
   "metadata": {},
   "outputs": [
    {
     "name": "stdout",
     "output_type": "stream",
     "text": [
      "<class 'pandas.core.frame.DataFrame'>\n",
      "Int64Index: 42251 entries, 0 to 42448\n",
      "Data columns (total 31 columns):\n",
      "loan_amnt                  42251 non-null int64\n",
      "term                       42251 non-null object\n",
      "int_rate                   42251 non-null float64\n",
      "grade                      42251 non-null object\n",
      "sub_grade                  42251 non-null object\n",
      "emp_length                 42251 non-null object\n",
      "home_ownership             42251 non-null object\n",
      "annual_inc                 42251 non-null float64\n",
      "verification_status        42251 non-null object\n",
      "issue_d                    42251 non-null object\n",
      "purpose                    42251 non-null object\n",
      "addr_state                 42251 non-null object\n",
      "dti                        42251 non-null float64\n",
      "earliest_cr_line           42251 non-null object\n",
      "inq_last_6mths             42251 non-null float64\n",
      "pub_rec                    42251 non-null float64\n",
      "revol_util                 42251 non-null object\n",
      "initial_list_status        42251 non-null object\n",
      "out_prncp                  42251 non-null int64\n",
      "out_prncp_inv              42251 non-null int64\n",
      "total_pymnt                42251 non-null float64\n",
      "total_rec_late_fee         42251 non-null float64\n",
      "recoveries                 42251 non-null float64\n",
      "collection_recovery_fee    42251 non-null float64\n",
      "last_pymnt_d               42251 non-null int64\n",
      "last_pymnt_amnt            42251 non-null float64\n",
      "last_credit_pull_d         42251 non-null int64\n",
      "pub_rec_bankruptcies       42251 non-null float64\n",
      "debt_settlement_flag       42251 non-null object\n",
      "target                     42251 non-null int64\n",
      "credit_policy              42251 non-null int64\n",
      "dtypes: float64(11), int64(7), object(13)\n",
      "memory usage: 10.3+ MB\n"
     ]
    }
   ],
   "source": [
    "loan.info()"
   ]
  },
  {
   "cell_type": "code",
   "execution_count": 91,
   "metadata": {},
   "outputs": [
    {
     "data": {
      "text/plain": [
       "f    42251\n",
       "Name: initial_list_status, dtype: int64"
      ]
     },
     "execution_count": 91,
     "metadata": {},
     "output_type": "execute_result"
    }
   ],
   "source": [
    "loan.initial_list_status.value_counts()"
   ]
  },
  {
   "cell_type": "code",
   "execution_count": 92,
   "metadata": {},
   "outputs": [],
   "source": [
    "loan.drop('initial_list_status',axis=1,inplace=True)"
   ]
  },
  {
   "cell_type": "code",
   "execution_count": 93,
   "metadata": {},
   "outputs": [],
   "source": [
    "loan.revol_util.replace(to_replace='[^0-9.]+',value='',regex=True,inplace=True)"
   ]
  },
  {
   "cell_type": "code",
   "execution_count": 94,
   "metadata": {},
   "outputs": [],
   "source": [
    "loan['revol_util']=loan.revol_util.apply(lambda x:float(x))"
   ]
  },
  {
   "cell_type": "code",
   "execution_count": 95,
   "metadata": {},
   "outputs": [],
   "source": [
    "loan['emp_length']=loan.emp_length.apply(lambda x:int(x))"
   ]
  },
  {
   "cell_type": "code",
   "execution_count": 96,
   "metadata": {},
   "outputs": [
    {
     "data": {
      "text/plain": [
       "N    42092\n",
       "Y      159\n",
       "Name: debt_settlement_flag, dtype: int64"
      ]
     },
     "execution_count": 96,
     "metadata": {},
     "output_type": "execute_result"
    }
   ],
   "source": [
    "loan.debt_settlement_flag.value_counts()"
   ]
  },
  {
   "cell_type": "code",
   "execution_count": 105,
   "metadata": {},
   "outputs": [
    {
     "data": {
      "text/plain": [
       "0    42251\n",
       "Name: out_prncp, dtype: int64"
      ]
     },
     "execution_count": 105,
     "metadata": {},
     "output_type": "execute_result"
    }
   ],
   "source": [
    "loan.out_prncp.value_counts()"
   ]
  },
  {
   "cell_type": "code",
   "execution_count": null,
   "metadata": {
    "collapsed": true
   },
   "outputs": [],
   "source": []
  },
  {
   "cell_type": "code",
   "execution_count": 97,
   "metadata": {},
   "outputs": [
    {
     "name": "stdout",
     "output_type": "stream",
     "text": [
      "term\n",
      "debt_settlement_flag\n"
     ]
    }
   ],
   "source": [
    "for col in loan:\n",
    "    if loan[col].dtype == 'object':\n",
    "        if len(list(loan[col].unique())) <= 2:     \n",
    "            le = preprocessing.LabelEncoder()\n",
    "            loan[col] = le.fit_transform(loan[col])\n",
    "            print (col)"
   ]
  },
  {
   "cell_type": "code",
   "execution_count": 98,
   "metadata": {},
   "outputs": [
    {
     "name": "stdout",
     "output_type": "stream",
     "text": [
      "<class 'pandas.core.frame.DataFrame'>\n",
      "Int64Index: 42251 entries, 0 to 42448\n",
      "Data columns (total 30 columns):\n",
      "loan_amnt                  42251 non-null int64\n",
      "term                       42251 non-null int32\n",
      "int_rate                   42251 non-null float64\n",
      "grade                      42251 non-null object\n",
      "sub_grade                  42251 non-null object\n",
      "emp_length                 42251 non-null int64\n",
      "home_ownership             42251 non-null object\n",
      "annual_inc                 42251 non-null float64\n",
      "verification_status        42251 non-null object\n",
      "issue_d                    42251 non-null object\n",
      "purpose                    42251 non-null object\n",
      "addr_state                 42251 non-null object\n",
      "dti                        42251 non-null float64\n",
      "earliest_cr_line           42251 non-null object\n",
      "inq_last_6mths             42251 non-null float64\n",
      "pub_rec                    42251 non-null float64\n",
      "revol_util                 42251 non-null float64\n",
      "out_prncp                  42251 non-null int64\n",
      "out_prncp_inv              42251 non-null int64\n",
      "total_pymnt                42251 non-null float64\n",
      "total_rec_late_fee         42251 non-null float64\n",
      "recoveries                 42251 non-null float64\n",
      "collection_recovery_fee    42251 non-null float64\n",
      "last_pymnt_d               42251 non-null int64\n",
      "last_pymnt_amnt            42251 non-null float64\n",
      "last_credit_pull_d         42251 non-null int64\n",
      "pub_rec_bankruptcies       42251 non-null float64\n",
      "debt_settlement_flag       42251 non-null int32\n",
      "target                     42251 non-null int64\n",
      "credit_policy              42251 non-null int64\n",
      "dtypes: float64(12), int32(2), int64(8), object(8)\n",
      "memory usage: 9.7+ MB\n"
     ]
    }
   ],
   "source": [
    "loan.info()"
   ]
  },
  {
   "cell_type": "code",
   "execution_count": 99,
   "metadata": {},
   "outputs": [],
   "source": [
    "date=pd.to_datetime(loan['earliest_cr_line'],format='%b-%y')\n",
    "loan['earliest_cr_line']=date.dt.year"
   ]
  },
  {
   "cell_type": "code",
   "execution_count": 100,
   "metadata": {},
   "outputs": [],
   "source": [
    "date=pd.to_datetime(loan['issue_d'],format='%b-%y')\n",
    "loan['issue_d']=date.dt.year"
   ]
  },
  {
   "cell_type": "code",
   "execution_count": 101,
   "metadata": {},
   "outputs": [],
   "source": [
    "x=loan.drop('target',axis=1)\n",
    "y=loan.target"
   ]
  },
  {
   "cell_type": "code",
   "execution_count": 102,
   "metadata": {},
   "outputs": [],
   "source": [
    "west = ['CA', 'OR', 'UT','WA', 'CO', 'NV', 'AK', 'MT', 'HI', 'WY', 'ID']\n",
    "south_west = ['AZ', 'TX', 'NM', 'OK']\n",
    "south_east = ['GA', 'NC', 'VA', 'FL', 'KY', 'SC', 'LA', 'AL', 'WV', 'DC', 'AR', 'DE', 'MS', 'TN' ]\n",
    "mid_west = ['IL', 'MO', 'MN', 'OH', 'WI', 'KS', 'MI', 'SD', 'IA', 'NE', 'IN', 'ND']\n",
    "north_east = ['CT', 'NY', 'PA', 'NJ', 'RI','MA', 'MD', 'VT', 'NH', 'ME']\n",
    "\n",
    "\n",
    "\n",
    "x['region'] = np.nan\n",
    "\n",
    "def finding_regions(state):\n",
    "    if state in west:\n",
    "        return 'West'\n",
    "    elif state in south_west:\n",
    "        return 'SouthWest'\n",
    "    elif state in south_east:\n",
    "        return 'SouthEast'\n",
    "    elif state in mid_west:\n",
    "        return 'MidWest'\n",
    "    elif state in north_east:\n",
    "        return 'NorthEast'\n",
    "    \n",
    "\n",
    "\n",
    "x['region'] = x['addr_state'].apply(finding_regions)"
   ]
  },
  {
   "cell_type": "code",
   "execution_count": 103,
   "metadata": {},
   "outputs": [],
   "source": [
    "x.drop('addr_state',axis=1,inplace=True)"
   ]
  },
  {
   "cell_type": "code",
   "execution_count": 104,
   "metadata": {},
   "outputs": [],
   "source": [
    "x_dummies=pd.get_dummies(x)"
   ]
  },
  {
   "cell_type": "code",
   "execution_count": 105,
   "metadata": {},
   "outputs": [
    {
     "data": {
      "text/plain": [
       "(42251, 92)"
      ]
     },
     "execution_count": 105,
     "metadata": {},
     "output_type": "execute_result"
    }
   ],
   "source": [
    "x_dummies.shape"
   ]
  },
  {
   "cell_type": "code",
   "execution_count": 106,
   "metadata": {},
   "outputs": [],
   "source": [
    "ss=StandardScaler()"
   ]
  },
  {
   "cell_type": "code",
   "execution_count": 107,
   "metadata": {},
   "outputs": [
    {
     "name": "stderr",
     "output_type": "stream",
     "text": [
      "C:\\Users\\vansh\\Anaconda4\\lib\\site-packages\\sklearn\\preprocessing\\data.py:625: DataConversionWarning: Data with input dtype uint8, int32, int64, float64 were all converted to float64 by StandardScaler.\n",
      "  return self.partial_fit(X, y)\n",
      "C:\\Users\\vansh\\Anaconda4\\lib\\site-packages\\sklearn\\base.py:462: DataConversionWarning: Data with input dtype uint8, int32, int64, float64 were all converted to float64 by StandardScaler.\n",
      "  return self.fit(X, **fit_params).transform(X)\n"
     ]
    }
   ],
   "source": [
    "x_scaled=ss.fit_transform(x_dummies)"
   ]
  },
  {
   "cell_type": "code",
   "execution_count": 108,
   "metadata": {},
   "outputs": [],
   "source": [
    "x_train,x_test,y_train,y_test=train_test_split(x_scaled,y,test_size=0.30,random_state=123)"
   ]
  },
  {
   "cell_type": "code",
   "execution_count": 109,
   "metadata": {},
   "outputs": [],
   "source": [
    "from imblearn.over_sampling import SMOTE"
   ]
  },
  {
   "cell_type": "code",
   "execution_count": 110,
   "metadata": {},
   "outputs": [],
   "source": [
    "sm = SMOTE(random_state=0)"
   ]
  },
  {
   "cell_type": "code",
   "execution_count": 111,
   "metadata": {},
   "outputs": [],
   "source": [
    "x_train_sm, y_train_sm = sm.fit_sample(x_train, y_train)"
   ]
  },
  {
   "cell_type": "code",
   "execution_count": 112,
   "metadata": {},
   "outputs": [
    {
     "data": {
      "text/plain": [
       "1    25215\n",
       "0     4360\n",
       "Name: target, dtype: int64"
      ]
     },
     "execution_count": 112,
     "metadata": {},
     "output_type": "execute_result"
    }
   ],
   "source": [
    "x_train.shape\n",
    "y_train.value_counts()"
   ]
  },
  {
   "cell_type": "code",
   "execution_count": 113,
   "metadata": {},
   "outputs": [
    {
     "data": {
      "text/plain": [
       "1    25215\n",
       "0    25215\n",
       "Name: 0, dtype: int64"
      ]
     },
     "execution_count": 113,
     "metadata": {},
     "output_type": "execute_result"
    }
   ],
   "source": [
    "pd.DataFrame(y_train_sm)[0].value_counts()"
   ]
  },
  {
   "cell_type": "code",
   "execution_count": 114,
   "metadata": {},
   "outputs": [
    {
     "data": {
      "text/plain": [
       "(50430, 92)"
      ]
     },
     "execution_count": 114,
     "metadata": {},
     "output_type": "execute_result"
    }
   ],
   "source": [
    "x_train_sm.shape"
   ]
  },
  {
   "cell_type": "code",
   "execution_count": 115,
   "metadata": {},
   "outputs": [],
   "source": [
    "lr=LogisticRegression()\n"
   ]
  },
  {
   "cell_type": "code",
   "execution_count": 116,
   "metadata": {},
   "outputs": [
    {
     "name": "stderr",
     "output_type": "stream",
     "text": [
      "C:\\Users\\vansh\\Anaconda4\\lib\\site-packages\\sklearn\\linear_model\\logistic.py:433: FutureWarning: Default solver will be changed to 'lbfgs' in 0.22. Specify a solver to silence this warning.\n",
      "  FutureWarning)\n"
     ]
    },
    {
     "data": {
      "text/plain": [
       "LogisticRegression(C=1.0, class_weight=None, dual=False, fit_intercept=True,\n",
       "          intercept_scaling=1, max_iter=100, multi_class='warn',\n",
       "          n_jobs=None, penalty='l2', random_state=None, solver='warn',\n",
       "          tol=0.0001, verbose=0, warm_start=False)"
      ]
     },
     "execution_count": 116,
     "metadata": {},
     "output_type": "execute_result"
    }
   ],
   "source": [
    "lr.fit(x_train_sm,y_train_sm)"
   ]
  },
  {
   "cell_type": "code",
   "execution_count": 117,
   "metadata": {},
   "outputs": [],
   "source": [
    "pred=lr.predict(x_test)"
   ]
  },
  {
   "cell_type": "code",
   "execution_count": 118,
   "metadata": {},
   "outputs": [],
   "source": [
    "from sklearn.metrics import accuracy_score,confusion_matrix"
   ]
  },
  {
   "cell_type": "code",
   "execution_count": 119,
   "metadata": {},
   "outputs": [
    {
     "data": {
      "text/plain": [
       "0.9818554749132218"
      ]
     },
     "execution_count": 119,
     "metadata": {},
     "output_type": "execute_result"
    }
   ],
   "source": [
    "accuracy_score(y_test,pred)"
   ]
  },
  {
   "cell_type": "code",
   "execution_count": 120,
   "metadata": {},
   "outputs": [
    {
     "data": {
      "text/plain": [
       "array([[ 1842,   104],\n",
       "       [  126, 10604]], dtype=int64)"
      ]
     },
     "execution_count": 120,
     "metadata": {},
     "output_type": "execute_result"
    }
   ],
   "source": [
    "confusion_matrix(y_test,pred)"
   ]
  },
  {
   "cell_type": "code",
   "execution_count": 142,
   "metadata": {},
   "outputs": [],
   "source": [
    "pred_prob=lr.predict_proba(x_test)"
   ]
  },
  {
   "cell_type": "code",
   "execution_count": 161,
   "metadata": {},
   "outputs": [],
   "source": [
    "thresh=0.397\n",
    "pred_thres=np.where(lr.predict_proba(x_test)[:,1] > thresh, 1, 0)"
   ]
  },
  {
   "cell_type": "code",
   "execution_count": 162,
   "metadata": {},
   "outputs": [
    {
     "data": {
      "text/plain": [
       "array([[ 1825,   121],\n",
       "       [   87, 10643]], dtype=int64)"
      ]
     },
     "execution_count": 162,
     "metadata": {},
     "output_type": "execute_result"
    }
   ],
   "source": [
    "confusion_matrix(y_test,pred_thres)"
   ]
  },
  {
   "cell_type": "code",
   "execution_count": 154,
   "metadata": {},
   "outputs": [
    {
     "data": {
      "text/plain": [
       "0.9835910381823919"
      ]
     },
     "execution_count": 154,
     "metadata": {},
     "output_type": "execute_result"
    }
   ],
   "source": [
    "accuracy_score(y_test,pred_thres)"
   ]
  },
  {
   "cell_type": "code",
   "execution_count": 163,
   "metadata": {},
   "outputs": [],
   "source": [
    "from sklearn.ensemble import RandomForestClassifier"
   ]
  },
  {
   "cell_type": "code",
   "execution_count": 164,
   "metadata": {},
   "outputs": [],
   "source": [
    "rand=RandomForestClassifier()"
   ]
  },
  {
   "cell_type": "code",
   "execution_count": 165,
   "metadata": {},
   "outputs": [
    {
     "name": "stderr",
     "output_type": "stream",
     "text": [
      "C:\\Users\\vansh\\Anaconda4\\lib\\site-packages\\sklearn\\ensemble\\forest.py:246: FutureWarning: The default value of n_estimators will change from 10 in version 0.20 to 100 in 0.22.\n",
      "  \"10 in version 0.20 to 100 in 0.22.\", FutureWarning)\n"
     ]
    },
    {
     "data": {
      "text/plain": [
       "RandomForestClassifier(bootstrap=True, class_weight=None, criterion='gini',\n",
       "            max_depth=None, max_features='auto', max_leaf_nodes=None,\n",
       "            min_impurity_decrease=0.0, min_impurity_split=None,\n",
       "            min_samples_leaf=1, min_samples_split=2,\n",
       "            min_weight_fraction_leaf=0.0, n_estimators=10, n_jobs=None,\n",
       "            oob_score=False, random_state=None, verbose=0,\n",
       "            warm_start=False)"
      ]
     },
     "execution_count": 165,
     "metadata": {},
     "output_type": "execute_result"
    }
   ],
   "source": [
    "rand.fit(x_train,y_train)"
   ]
  },
  {
   "cell_type": "code",
   "execution_count": 166,
   "metadata": {},
   "outputs": [],
   "source": [
    "pred_random=rand.predict(x_test)"
   ]
  },
  {
   "cell_type": "code",
   "execution_count": 167,
   "metadata": {},
   "outputs": [
    {
     "data": {
      "text/plain": [
       "array([[ 1933,    13],\n",
       "       [    0, 10730]], dtype=int64)"
      ]
     },
     "execution_count": 167,
     "metadata": {},
     "output_type": "execute_result"
    }
   ],
   "source": [
    "confusion_matrix(y_test,pred_random)"
   ]
  },
  {
   "cell_type": "code",
   "execution_count": 168,
   "metadata": {},
   "outputs": [],
   "source": [
    "prob_random=rand.predict_proba(x_test)"
   ]
  },
  {
   "cell_type": "code",
   "execution_count": 170,
   "metadata": {},
   "outputs": [
    {
     "data": {
      "text/plain": [
       "0.9989744398863994"
      ]
     },
     "execution_count": 170,
     "metadata": {},
     "output_type": "execute_result"
    }
   ],
   "source": [
    "accuracy_score(y_test,pred_random)"
   ]
  },
  {
   "cell_type": "code",
   "execution_count": 171,
   "metadata": {},
   "outputs": [
    {
     "name": "stderr",
     "output_type": "stream",
     "text": [
      "C:\\Users\\vansh\\Anaconda4\\lib\\site-packages\\sklearn\\linear_model\\logistic.py:433: FutureWarning: Default solver will be changed to 'lbfgs' in 0.22. Specify a solver to silence this warning.\n",
      "  FutureWarning)\n"
     ]
    }
   ],
   "source": [
    "lr_imbalanced=lr.fit(x_train,y_train)"
   ]
  },
  {
   "cell_type": "code",
   "execution_count": 172,
   "metadata": {},
   "outputs": [],
   "source": [
    "pred_log=lr_imbalanced.predict(x_test)"
   ]
  },
  {
   "cell_type": "code",
   "execution_count": 173,
   "metadata": {},
   "outputs": [
    {
     "data": {
      "text/plain": [
       "array([[ 1760,   186],\n",
       "       [   46, 10684]], dtype=int64)"
      ]
     },
     "execution_count": 173,
     "metadata": {},
     "output_type": "execute_result"
    }
   ],
   "source": [
    "confusion_matrix(y_test,pred_log)"
   ]
  },
  {
   "cell_type": "code",
   "execution_count": null,
   "metadata": {},
   "outputs": [],
   "source": []
  }
 ],
 "metadata": {
  "kernelspec": {
   "display_name": "Python 3",
   "language": "python",
   "name": "python3"
  },
  "language_info": {
   "codemirror_mode": {
    "name": "ipython",
    "version": 3
   },
   "file_extension": ".py",
   "mimetype": "text/x-python",
   "name": "python",
   "nbconvert_exporter": "python",
   "pygments_lexer": "ipython3",
   "version": "3.7.1"
  }
 },
 "nbformat": 4,
 "nbformat_minor": 2
}
